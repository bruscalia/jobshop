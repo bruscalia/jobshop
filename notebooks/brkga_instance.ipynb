{
 "cells": [
  {
   "cell_type": "code",
   "execution_count": 1,
   "metadata": {},
   "outputs": [],
   "source": [
    "from pymoo.optimize import minimize\n",
    "from jobshop.params import job_params_from_json\n",
    "from jobshop.heuristic.brkga import BRKGA, Decoder, LSDecoder, JobShopProblem, DuplicatesEncoder\n",
    "from jobshop.heuristic.brkga.termination import TargetTermination"
   ]
  },
  {
   "attachments": {},
   "cell_type": "markdown",
   "metadata": {},
   "source": [
    "Thesis with target values [link](https://repositorio.ufmg.br/bitstream/1843/33554/1/Tradu%C3%A7%C3%A3o%20Autom%C3%A1tica%20de%20Problemas%20de%20Escalonamento%20Job%20Shop%20Flex%C3%ADvel%20com%20Bloqueio%20para%20Aut%C3%B4matos%20Utilizando%20a%20Teoria%20de%20Controle%20Supervis%C3%B3rio%20-%20PDF_A.pdf)"
   ]
  },
  {
   "cell_type": "code",
   "execution_count": 2,
   "metadata": {},
   "outputs": [],
   "source": [
    "params = job_params_from_json(\"./../instances/orlib/mt10.json\")"
   ]
  },
  {
   "cell_type": "code",
   "execution_count": 3,
   "metadata": {},
   "outputs": [],
   "source": [
    "brkga = BRKGA(\n",
    "    pop_size=100,\n",
    "    perc_elite=0.2,\n",
    "    perc_mutants=0.15,\n",
    "    bias=0.8,\n",
    ")\n",
    "problem = JobShopProblem(params, LSDecoder)"
   ]
  },
  {
   "cell_type": "code",
   "execution_count": 4,
   "metadata": {},
   "outputs": [
    {
     "name": "stdout",
     "output_type": "stream",
     "text": [
      "=================================================\n",
      "n_gen  |  n_eval  |     f_avg     |     f_min    \n",
      "=================================================\n",
      "     1 |      100 |  1.305980E+03 |  1.135000E+03\n",
      "     2 |      180 |  1.270430E+03 |  1.135000E+03\n",
      "     3 |      260 |  1.259160E+03 |  1.101000E+03\n",
      "     4 |      340 |  1.236770E+03 |  1.079000E+03\n",
      "     5 |      420 |  1.233530E+03 |  1.079000E+03\n",
      "     6 |      500 |  1.226850E+03 |  1.079000E+03\n",
      "     7 |      580 |  1.230290E+03 |  1.079000E+03\n",
      "     8 |      660 |  1.236960E+03 |  1.056000E+03\n",
      "     9 |      740 |  1.201290E+03 |  1.044000E+03\n",
      "    10 |      820 |  1.214480E+03 |  1.044000E+03\n",
      "    11 |      900 |  1.204400E+03 |  1.044000E+03\n",
      "    12 |      980 |  1.205400E+03 |  1.044000E+03\n",
      "    13 |     1060 |  1.209860E+03 |  1.044000E+03\n",
      "    14 |     1140 |  1.207070E+03 |  1.044000E+03\n",
      "    15 |     1220 |  1.205900E+03 |  1.044000E+03\n",
      "    16 |     1300 |  1.190670E+03 |  9.880000E+02\n",
      "    17 |     1380 |  1.192040E+03 |  9.880000E+02\n",
      "    18 |     1460 |  1.188810E+03 |  9.880000E+02\n",
      "    19 |     1540 |  1.171370E+03 |  9.880000E+02\n",
      "    20 |     1620 |  1.171710E+03 |  9.880000E+02\n",
      "    21 |     1700 |  1.160000E+03 |  9.880000E+02\n",
      "    22 |     1780 |  1.143680E+03 |  9.880000E+02\n",
      "    23 |     1860 |  1.148880E+03 |  9.880000E+02\n",
      "    24 |     1940 |  1.158250E+03 |  9.880000E+02\n",
      "    25 |     2020 |  1.152170E+03 |  9.880000E+02\n",
      "    26 |     2100 |  1.135410E+03 |  9.880000E+02\n",
      "    27 |     2180 |  1.136790E+03 |  9.880000E+02\n",
      "    28 |     2260 |  1.159130E+03 |  9.880000E+02\n",
      "    29 |     2340 |  1.159120E+03 |  9.880000E+02\n",
      "    30 |     2420 |  1.145360E+03 |  9.880000E+02\n",
      "    31 |     2500 |  1.143170E+03 |  9.880000E+02\n",
      "    32 |     2580 |  1.132680E+03 |  9.880000E+02\n",
      "    33 |     2660 |  1.130680E+03 |  9.880000E+02\n",
      "    34 |     2740 |  1.129420E+03 |  9.880000E+02\n",
      "    35 |     2820 |  1.141700E+03 |  9.880000E+02\n",
      "    36 |     2900 |  1.144030E+03 |  9.880000E+02\n",
      "    37 |     2980 |  1.133770E+03 |  9.880000E+02\n",
      "    38 |     3060 |  1.122650E+03 |  9.880000E+02\n",
      "    39 |     3140 |  1.127150E+03 |  9.880000E+02\n",
      "    40 |     3220 |  1.124140E+03 |  9.880000E+02\n",
      "    41 |     3300 |  1.130850E+03 |  9.880000E+02\n",
      "    42 |     3380 |  1.122230E+03 |  9.880000E+02\n",
      "    43 |     3460 |  1.138200E+03 |  9.880000E+02\n",
      "    44 |     3540 |  1.153370E+03 |  9.880000E+02\n",
      "    45 |     3620 |  1.131900E+03 |  9.870000E+02\n",
      "    46 |     3700 |  1.131430E+03 |  9.870000E+02\n",
      "    47 |     3780 |  1.104270E+03 |  9.870000E+02\n",
      "    48 |     3860 |  1.117900E+03 |  9.770000E+02\n",
      "    49 |     3940 |  1.131920E+03 |  9.770000E+02\n",
      "    50 |     4020 |  1.122500E+03 |  9.770000E+02\n",
      "    51 |     4100 |  1.094510E+03 |  9.770000E+02\n",
      "    52 |     4180 |  1.107780E+03 |  9.770000E+02\n",
      "    53 |     4260 |  1.096620E+03 |  9.770000E+02\n",
      "    54 |     4340 |  1.098230E+03 |  9.770000E+02\n",
      "    55 |     4420 |  1.111740E+03 |  9.770000E+02\n",
      "    56 |     4500 |  1.110780E+03 |  9.770000E+02\n",
      "    57 |     4580 |  1.089980E+03 |  9.740000E+02\n",
      "    58 |     4660 |  1.095680E+03 |  9.740000E+02\n",
      "    59 |     4740 |  1.090990E+03 |  9.740000E+02\n",
      "    60 |     4820 |  1.083290E+03 |  9.740000E+02\n",
      "    61 |     4900 |  1.059510E+03 |  9.740000E+02\n",
      "    62 |     4980 |  1.068570E+03 |  9.740000E+02\n",
      "    63 |     5060 |  1.074850E+03 |  9.740000E+02\n",
      "    64 |     5140 |  1.092970E+03 |  9.740000E+02\n",
      "    65 |     5220 |  1.105110E+03 |  9.740000E+02\n",
      "    66 |     5300 |  1.097810E+03 |  9.740000E+02\n",
      "    67 |     5380 |  1.084720E+03 |  9.740000E+02\n",
      "    68 |     5460 |  1.080700E+03 |  9.740000E+02\n",
      "    69 |     5540 |  1.093300E+03 |  9.740000E+02\n",
      "    70 |     5620 |  1.097460E+03 |  9.740000E+02\n",
      "    71 |     5700 |  1.099420E+03 |  9.740000E+02\n",
      "    72 |     5780 |  1.104090E+03 |  9.740000E+02\n",
      "    73 |     5860 |  1.093580E+03 |  9.740000E+02\n",
      "    74 |     5940 |  1.090660E+03 |  9.740000E+02\n",
      "    75 |     6020 |  1.100680E+03 |  9.740000E+02\n",
      "    76 |     6100 |  1.086130E+03 |  9.740000E+02\n",
      "    77 |     6180 |  1.099220E+03 |  9.740000E+02\n",
      "    78 |     6260 |  1.108690E+03 |  9.740000E+02\n",
      "    79 |     6340 |  1.115230E+03 |  9.740000E+02\n",
      "    80 |     6420 |  1.110120E+03 |  9.740000E+02\n",
      "    81 |     6500 |  1.077400E+03 |  9.740000E+02\n",
      "    82 |     6580 |  1.075740E+03 |  9.740000E+02\n",
      "    83 |     6660 |  1.091380E+03 |  9.740000E+02\n",
      "    84 |     6740 |  1.099780E+03 |  9.740000E+02\n",
      "    85 |     6820 |  1.104560E+03 |  9.740000E+02\n",
      "    86 |     6900 |  1.087850E+03 |  9.740000E+02\n",
      "    87 |     6980 |  1.088380E+03 |  9.740000E+02\n",
      "    88 |     7060 |  1.099920E+03 |  9.740000E+02\n",
      "    89 |     7140 |  1.088050E+03 |  9.740000E+02\n",
      "    90 |     7220 |  1.086420E+03 |  9.740000E+02\n",
      "    91 |     7300 |  1.097080E+03 |  9.740000E+02\n",
      "    92 |     7380 |  1.091170E+03 |  9.740000E+02\n",
      "    93 |     7460 |  1.083250E+03 |  9.740000E+02\n",
      "    94 |     7540 |  1.106310E+03 |  9.740000E+02\n",
      "    95 |     7620 |  1.088050E+03 |  9.740000E+02\n",
      "    96 |     7700 |  1.084960E+03 |  9.740000E+02\n",
      "    97 |     7780 |  1.077080E+03 |  9.740000E+02\n",
      "    98 |     7860 |  1.071790E+03 |  9.740000E+02\n",
      "    99 |     7940 |  1.073230E+03 |  9.740000E+02\n",
      "   100 |     8020 |  1.080700E+03 |  9.740000E+02\n",
      "   101 |     8100 |  1.075170E+03 |  9.740000E+02\n",
      "   102 |     8180 |  1.069900E+03 |  9.740000E+02\n",
      "   103 |     8260 |  1.085200E+03 |  9.740000E+02\n",
      "   104 |     8340 |  1.104360E+03 |  9.740000E+02\n",
      "   105 |     8420 |  1.098730E+03 |  9.740000E+02\n",
      "   106 |     8500 |  1.113080E+03 |  9.740000E+02\n",
      "   107 |     8580 |  1.106180E+03 |  9.740000E+02\n",
      "   108 |     8660 |  1.088720E+03 |  9.740000E+02\n",
      "   109 |     8740 |  1.086420E+03 |  9.740000E+02\n",
      "   110 |     8820 |  1.102560E+03 |  9.740000E+02\n",
      "   111 |     8900 |  1.107210E+03 |  9.740000E+02\n",
      "   112 |     8980 |  1.096600E+03 |  9.740000E+02\n",
      "   113 |     9060 |  1.101930E+03 |  9.740000E+02\n",
      "   114 |     9140 |  1.094140E+03 |  9.740000E+02\n",
      "   115 |     9220 |  1.084950E+03 |  9.740000E+02\n",
      "   116 |     9300 |  1.105790E+03 |  9.740000E+02\n",
      "   117 |     9380 |  1.095360E+03 |  9.740000E+02\n",
      "   118 |     9460 |  1.078070E+03 |  9.740000E+02\n",
      "   119 |     9540 |  1.068990E+03 |  9.740000E+02\n",
      "   120 |     9620 |  1.085150E+03 |  9.740000E+02\n",
      "   121 |     9700 |  1.074690E+03 |  9.740000E+02\n",
      "   122 |     9780 |  1.073290E+03 |  9.680000E+02\n",
      "   123 |     9860 |  1.080040E+03 |  9.680000E+02\n",
      "   124 |     9940 |  1.071750E+03 |  9.680000E+02\n",
      "   125 |    10020 |  1.098170E+03 |  9.680000E+02\n",
      "   126 |    10100 |  1.081390E+03 |  9.680000E+02\n",
      "   127 |    10180 |  1.094340E+03 |  9.680000E+02\n",
      "   128 |    10260 |  1.103290E+03 |  9.680000E+02\n",
      "   129 |    10340 |  1.105540E+03 |  9.680000E+02\n",
      "   130 |    10420 |  1.099410E+03 |  9.680000E+02\n",
      "   131 |    10500 |  1.094360E+03 |  9.680000E+02\n",
      "   132 |    10580 |  1.080130E+03 |  9.680000E+02\n",
      "   133 |    10660 |  1.106280E+03 |  9.680000E+02\n",
      "   134 |    10740 |  1.050840E+03 |  9.680000E+02\n",
      "   135 |    10820 |  1.067010E+03 |  9.680000E+02\n",
      "   136 |    10900 |  1.056540E+03 |  9.680000E+02\n",
      "   137 |    10980 |  1.056310E+03 |  9.680000E+02\n",
      "   138 |    11060 |  1.074290E+03 |  9.680000E+02\n",
      "   139 |    11140 |  1.084870E+03 |  9.680000E+02\n",
      "   140 |    11220 |  1.105350E+03 |  9.680000E+02\n",
      "   141 |    11300 |  1.090230E+03 |  9.680000E+02\n",
      "   142 |    11380 |  1.088900E+03 |  9.680000E+02\n",
      "   143 |    11460 |  1.078250E+03 |  9.680000E+02\n",
      "   144 |    11540 |  1.097490E+03 |  9.680000E+02\n",
      "   145 |    11620 |  1.085530E+03 |  9.680000E+02\n",
      "   146 |    11700 |  1.096040E+03 |  9.680000E+02\n",
      "   147 |    11780 |  1.077420E+03 |  9.680000E+02\n",
      "   148 |    11860 |  1.089660E+03 |  9.680000E+02\n",
      "   149 |    11940 |  1.085020E+03 |  9.680000E+02\n",
      "   150 |    12020 |  1.070300E+03 |  9.680000E+02\n",
      "   151 |    12100 |  1.068660E+03 |  9.680000E+02\n",
      "   152 |    12180 |  1.078230E+03 |  9.680000E+02\n",
      "   153 |    12260 |  1.112530E+03 |  9.680000E+02\n",
      "   154 |    12340 |  1.094270E+03 |  9.680000E+02\n",
      "   155 |    12420 |  1.093000E+03 |  9.680000E+02\n",
      "   156 |    12500 |  1.083610E+03 |  9.680000E+02\n",
      "   157 |    12580 |  1.108980E+03 |  9.680000E+02\n",
      "   158 |    12660 |  1.110900E+03 |  9.680000E+02\n",
      "   159 |    12740 |  1.115700E+03 |  9.680000E+02\n",
      "   160 |    12820 |  1.097350E+03 |  9.680000E+02\n",
      "   161 |    12900 |  1.115450E+03 |  9.680000E+02\n",
      "   162 |    12980 |  1.095090E+03 |  9.680000E+02\n",
      "   163 |    13060 |  1.070500E+03 |  9.680000E+02\n",
      "   164 |    13140 |  1.070680E+03 |  9.680000E+02\n",
      "   165 |    13220 |  1.086710E+03 |  9.680000E+02\n",
      "   166 |    13300 |  1.081530E+03 |  9.680000E+02\n",
      "   167 |    13380 |  1.086430E+03 |  9.680000E+02\n",
      "   168 |    13460 |  1.093180E+03 |  9.680000E+02\n",
      "   169 |    13540 |  1.104230E+03 |  9.680000E+02\n",
      "   170 |    13620 |  1.076200E+03 |  9.680000E+02\n",
      "   171 |    13700 |  1.087200E+03 |  9.680000E+02\n",
      "   172 |    13780 |  1.070270E+03 |  9.660000E+02\n",
      "   173 |    13860 |  1.072390E+03 |  9.660000E+02\n",
      "   174 |    13940 |  1.092940E+03 |  9.660000E+02\n",
      "   175 |    14020 |  1.089230E+03 |  9.660000E+02\n",
      "   176 |    14100 |  1.091610E+03 |  9.660000E+02\n",
      "   177 |    14180 |  1.084420E+03 |  9.660000E+02\n",
      "   178 |    14260 |  1.085350E+03 |  9.660000E+02\n",
      "   179 |    14340 |  1.097700E+03 |  9.660000E+02\n",
      "   180 |    14420 |  1.077120E+03 |  9.660000E+02\n",
      "   181 |    14500 |  1.058440E+03 |  9.660000E+02\n",
      "   182 |    14580 |  1.058380E+03 |  9.660000E+02\n",
      "   183 |    14660 |  1.048470E+03 |  9.660000E+02\n",
      "   184 |    14740 |  1.056630E+03 |  9.660000E+02\n",
      "   185 |    14820 |  1.055640E+03 |  9.660000E+02\n",
      "   186 |    14900 |  1.078230E+03 |  9.660000E+02\n",
      "   187 |    14980 |  1.074350E+03 |  9.660000E+02\n",
      "   188 |    15060 |  1.082290E+03 |  9.660000E+02\n",
      "   189 |    15140 |  1.078020E+03 |  9.660000E+02\n",
      "   190 |    15220 |  1.097420E+03 |  9.660000E+02\n",
      "   191 |    15300 |  1.080560E+03 |  9.660000E+02\n",
      "   192 |    15380 |  1.084420E+03 |  9.660000E+02\n",
      "   193 |    15460 |  1.088130E+03 |  9.660000E+02\n",
      "   194 |    15540 |  1.100930E+03 |  9.660000E+02\n",
      "   195 |    15620 |  1.084380E+03 |  9.660000E+02\n",
      "   196 |    15700 |  1.101880E+03 |  9.640000E+02\n",
      "   197 |    15780 |  1.086920E+03 |  9.640000E+02\n",
      "   198 |    15860 |  1.067490E+03 |  9.640000E+02\n",
      "   199 |    15940 |  1.059560E+03 |  9.640000E+02\n",
      "   200 |    16020 |  1.087200E+03 |  9.640000E+02\n"
     ]
    }
   ],
   "source": [
    "res = minimize(problem, brkga, termination=TargetTermination(200, 950), verbose=True, seed=42)"
   ]
  },
  {
   "cell_type": "code",
   "execution_count": 5,
   "metadata": {},
   "outputs": [],
   "source": [
    "graph = problem.decoder.build_graph_from_string(res.X)"
   ]
  },
  {
   "cell_type": "code",
   "execution_count": 6,
   "metadata": {},
   "outputs": [
    {
     "data": {
      "image/png": "[encoded data removed]",
      "text/plain": [
       "<Figure size 700x300 with 1 Axes>"
      ]
     },
     "metadata": {},
     "output_type": "display_data"
    }
   ],
   "source": [
    "graph.plot()"
   ]
  },
  {
   "cell_type": "code",
   "execution_count": 7,
   "metadata": {},
   "outputs": [],
   "source": [
    "import numpy as np"
   ]
  },
  {
   "cell_type": "code",
   "execution_count": 8,
   "metadata": {},
   "outputs": [],
   "source": [
    "A = np.atleast_2d([])\n",
    "b = []"
   ]
  },
  {
   "cell_type": "code",
   "execution_count": 9,
   "metadata": {},
   "outputs": [
    {
     "data": {
      "text/plain": [
       "array([], shape=(1, 0), dtype=float64)"
      ]
     },
     "execution_count": 9,
     "metadata": {},
     "output_type": "execute_result"
    }
   ],
   "source": [
    "A"
   ]
  },
  {
   "cell_type": "code",
   "execution_count": 37,
   "metadata": {},
   "outputs": [],
   "source": [
    "ops = [o for o in graph.O]\n",
    "N = len(ops)\n",
    "\n",
    "A = np.empty((0, N))\n",
    "b = []\n",
    "\n",
    "for m, j in ops:\n",
    "    PJ = graph.precede_job(m, j)\n",
    "    if PJ is not None:\n",
    "        row = np.zeros((1, N))\n",
    "        row[0, ops.index((m, j))] = -1\n",
    "        row[0, ops.index(PJ.code)] = 1\n",
    "        b.append(PJ.duration)\n",
    "        A = np.vstack((A, row))\n",
    "    PM = graph.precede_machine(m, j)\n",
    "    if PM is not None:\n",
    "        row = np.zeros((1, N))\n",
    "        row[0, ops.index((m, j))] = -1\n",
    "        row[0, ops.index(PM.code)] = 1\n",
    "        b.append(PM.duration)\n",
    "        A = np.vstack((A, row))\n",
    "\n",
    "b = - np.array(b)\n",
    "c = np.ones(N)"
   ]
  },
  {
   "cell_type": "code",
   "execution_count": 38,
   "metadata": {},
   "outputs": [],
   "source": [
    "from scipy.optimize import linprog"
   ]
  },
  {
   "cell_type": "code",
   "execution_count": 39,
   "metadata": {},
   "outputs": [
    {
     "name": "stdout",
     "output_type": "stream",
     "text": [
      "CPU times: total: 2.05 s\n",
      "Wall time: 2.28 s\n"
     ]
    }
   ],
   "source": [
    "%%time\n",
    "\n",
    "for _ in range(1000):\n",
    "\n",
    "    sol = linprog(c, A_ub=A, b_ub=b, method=\"highs\")"
   ]
  },
  {
   "cell_type": "code",
   "execution_count": 30,
   "metadata": {},
   "outputs": [],
   "source": [
    "from jobshop.heuristic.evaluation import calc_makespan"
   ]
  },
  {
   "cell_type": "code",
   "execution_count": 40,
   "metadata": {},
   "outputs": [
    {
     "name": "stdout",
     "output_type": "stream",
     "text": [
      "CPU times: total: 1.77 s\n",
      "Wall time: 2.14 s\n"
     ]
    }
   ],
   "source": [
    "%%time\n",
    "\n",
    "for _ in range(1000):\n",
    "\n",
    "    calc_makespan(graph)"
   ]
  },
  {
   "cell_type": "code",
   "execution_count": 24,
   "metadata": {},
   "outputs": [
    {
     "data": {
      "text/plain": [
       "array([378.,   0., 456., 224., 129., 407., 295.,  43., 135., 365., 456.,\n",
       "       685., 365.,   0., 177., 129.,  81., 131., 211., 280., 537., 224.,\n",
       "       580., 129.,  31.,  45., 439.,   0., 452., 378., 580., 616., 541.,\n",
       "       737., 417., 183., 356., 835., 280., 685., 616., 394., 924., 295.,\n",
       "       469., 740., 836., 257., 714., 746., 671., 790., 744., 857., 257.,\n",
       "       131., 484., 183., 356., 624., 682., 744., 790., 394., 879., 588.,\n",
       "       452., 289., 548., 439., 766., 847., 754., 455., 576., 822., 714.,\n",
       "       540., 625., 919., 822., 919., 654., 403., 538., 278., 559., 377.,\n",
       "       744., 455., 924., 469., 879., 835., 625., 326., 505., 398., 537.,\n",
       "       548.])"
      ]
     },
     "execution_count": 24,
     "metadata": {},
     "output_type": "execute_result"
    }
   ],
   "source": [
    "sol.x"
   ]
  },
  {
   "cell_type": "code",
   "execution_count": 27,
   "metadata": {},
   "outputs": [],
   "source": [
    "p = np.array([o.duration for o in graph.O.values()])"
   ]
  },
  {
   "cell_type": "code",
   "execution_count": 28,
   "metadata": {},
   "outputs": [
    {
     "data": {
      "text/plain": [
       "964.0"
      ]
     },
     "execution_count": 28,
     "metadata": {},
     "output_type": "execute_result"
    }
   ],
   "source": [
    "max(p + sol.x)"
   ]
  },
  {
   "cell_type": "code",
   "execution_count": null,
   "metadata": {},
   "outputs": [],
   "source": []
  }
 ],
 "metadata": {
  "kernelspec": {
   "display_name": "venv",
   "language": "python",
   "name": "python3"
  },
  "language_info": {
   "codemirror_mode": {
    "name": "ipython",
    "version": 3
   },
   "file_extension": ".py",
   "mimetype": "text/x-python",
   "name": "python",
   "nbconvert_exporter": "python",
   "pygments_lexer": "ipython3",
   "version": "3.9.7"
  },
  "orig_nbformat": 4,
  "vscode": {
   "interpreter": {
    "hash": "c80e59d898e7c66d975776755d4e3dc6a2d556add5ce2725f479f7b2dc2ae0e0"
   }
  }
 },
 "nbformat": 4,
 "nbformat_minor": 2
}
