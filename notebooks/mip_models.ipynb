{
 "cells": [
  {
   "attachments": {},
   "cell_type": "markdown",
   "metadata": {},
   "source": [
    "# MIP Models"
   ]
  },
  {
   "cell_type": "code",
   "execution_count": 1,
   "metadata": {},
   "outputs": [],
   "source": [
    "import pyomo.environ as pyo\n",
    "from jobshop.params import JobShopRandomParams\n",
    "from jobshop.mip import DisjModel, TimeModel"
   ]
  },
  {
   "cell_type": "code",
   "execution_count": 2,
   "metadata": {},
   "outputs": [],
   "source": [
    "# Instantiate random params of a 4x3 problem\n",
    "params = JobShopRandomParams(3, 4, seed=12)"
   ]
  },
  {
   "attachments": {},
   "cell_type": "markdown",
   "metadata": {},
   "source": [
    "## Disjuntive model"
   ]
  },
  {
   "attachments": {},
   "cell_type": "markdown",
   "metadata": {},
   "source": [
    "$$\n",
    "\\begin{align}\n",
    "    \\text{min} \\quad & C \\\\\n",
    "    \\text{s.t.} \\quad & x_{\\sigma_{h-1}^j, j} + p_{\\sigma_{h-1}^j, j} \\leq x_{\\sigma_{h}^j, j}\n",
    "        & \\forall ~ j \\in J; h \\in (2, ..., |M|)\\\\\n",
    "    & x_{m, j} + p_{m, j} \\leq x_{m, k} + V (1 - z_{m, j, k})\n",
    "        & \\forall ~ j, k \\in J, j \\neq k; m \\in M\\\\\n",
    "    & z_{m, j, k} + z_{m, k, j} = 1\n",
    "        & \\forall ~ j, k \\in J, j \\neq k; m \\in M\\\\\n",
    "    & x_{\\sigma_{|M|}^j, j} + p_{\\sigma_{|M|}^j, j} \\leq C\n",
    "        & \\forall ~ j \\in J\\\\\n",
    "    & x_{m, j} \\geq 0 & \\forall ~ j \\in J; m \\in M\\\\\n",
    "    & z_{m, j, k} \\in \\{0, 1\\} & \\forall ~ j, k \\in J; m \\in M\\\\\n",
    "\\end{align}\n",
    "$$"
   ]
  },
  {
   "cell_type": "code",
   "execution_count": 3,
   "metadata": {},
   "outputs": [],
   "source": [
    "disj_model = DisjModel(params)"
   ]
  },
  {
   "cell_type": "code",
   "execution_count": 4,
   "metadata": {},
   "outputs": [
    {
     "name": "stdout",
     "output_type": "stream",
     "text": [
      "\n",
      "Problem: \n",
      "- Name: unknown\n",
      "  Lower bound: 48.0\n",
      "  Upper bound: 48.0\n",
      "  Number of objectives: 1\n",
      "  Number of constraints: 48\n",
      "  Number of variables: 31\n",
      "  Number of binary variables: 48\n",
      "  Number of integer variables: 48\n",
      "  Number of nonzeros: 1\n",
      "  Sense: minimize\n",
      "Solver: \n",
      "- Status: ok\n",
      "  User time: -1.0\n",
      "  System time: 0.15\n",
      "  Wallclock time: 0.15\n",
      "  Termination condition: optimal\n",
      "  Termination message: Model was solved to optimality (subject to tolerances), and an optimal solution is available.\n",
      "  Statistics: \n",
      "    Branch and bound: \n",
      "      Number of bounded subproblems: 0\n",
      "      Number of created subproblems: 0\n",
      "    Black box: \n",
      "      Number of iterations: 0\n",
      "  Error rc: 0\n",
      "  Time: 0.25960540771484375\n",
      "Solution: \n",
      "- number of solutions: 0\n",
      "  number of solutions displayed: 0\n",
      "\n"
     ]
    }
   ],
   "source": [
    "solver = pyo.SolverFactory(\"cbc\", options=dict(cuts=\"on\", sec=20))\n",
    "res = solver.solve(disj_model, tee=False)\n",
    "print(res)"
   ]
  },
  {
   "cell_type": "code",
   "execution_count": 5,
   "metadata": {},
   "outputs": [
    {
     "data": {
      "image/png": "[encoded data removed]",
      "text/plain": [
       "<Figure size 700x300 with 1 Axes>"
      ]
     },
     "metadata": {},
     "output_type": "display_data"
    }
   ],
   "source": [
    "disj_model.plot()"
   ]
  },
  {
   "attachments": {},
   "cell_type": "markdown",
   "metadata": {},
   "source": [
    "## Time-indexed model"
   ]
  },
  {
   "attachments": {},
   "cell_type": "markdown",
   "metadata": {},
   "source": [
    "$$\n",
    "\\begin{align}\n",
    "    \\text{min} \\quad & C \\\\\n",
    "    \\text{s.t.} \\quad & \\sum_{t \\in T}{x_{m, j, t}} = 1\n",
    "        & \\forall ~ j \\in J; m \\in M \\\\\n",
    "    & \\sum_{j \\in J}\\sum_{t` \\in (t - p_{m, j} + 1, ..., t )}x_{m, j, t`} \\leq 1\n",
    "        & \\forall ~ m \\in M; t \\in T \\\\\n",
    "    & \\sum_{t \\in T}{(t + p_{\\sigma_{h - 1}^j, j}) x_{\\sigma_{h - 1}^j, j, t}} \\leq\n",
    "    t x_{\\sigma_{h}^j, j, t}\n",
    "        & \\forall ~ j \\in J; h \\in (1, 2, ..., |M|) \\\\\n",
    "    & \\sum_{t \\in T}{(t + p_{m, j}) x_{m, j, t}} \\leq C\n",
    "        & \\forall ~ j \\in J; m \\in M \\\\\n",
    "    & x_{m, j, t} \\in \\{0, 1\\} & \\forall ~ j; m \\in M; t \\in T\\\\\n",
    "\\end{align}\n",
    "$$"
   ]
  },
  {
   "cell_type": "code",
   "execution_count": 6,
   "metadata": {},
   "outputs": [],
   "source": [
    "time_model = TimeModel(params)"
   ]
  },
  {
   "cell_type": "code",
   "execution_count": 7,
   "metadata": {},
   "outputs": [
    {
     "name": "stdout",
     "output_type": "stream",
     "text": [
      "WARNING: Loading a SolverResults object with an 'aborted' status, but\n",
      "    containing a solution\n",
      "\n",
      "Problem: \n",
      "- Name: unknown\n",
      "  Lower bound: 46.0\n",
      "  Upper bound: 50.0\n",
      "  Number of objectives: 1\n",
      "  Number of constraints: 381\n",
      "  Number of variables: 1429\n",
      "  Number of binary variables: 1428\n",
      "  Number of integer variables: 1428\n",
      "  Number of nonzeros: 1\n",
      "  Sense: minimize\n",
      "Solver: \n",
      "- Status: aborted\n",
      "  User time: -1.0\n",
      "  System time: 18.58\n",
      "  Wallclock time: 18.58\n",
      "  Termination condition: maxTimeLimit\n",
      "  Termination message: Optimization terminated because the time expended exceeded the value specified in the seconds parameter.\n",
      "  Statistics: \n",
      "    Branch and bound: \n",
      "      Number of bounded subproblems: 961\n",
      "      Number of created subproblems: 961\n",
      "    Black box: \n",
      "      Number of iterations: 38219\n",
      "  Error rc: 0\n",
      "  Time: 18.761165142059326\n",
      "Solution: \n",
      "- number of solutions: 0\n",
      "  number of solutions displayed: 0\n",
      "\n"
     ]
    }
   ],
   "source": [
    "res = solver.solve(time_model, tee=False)\n",
    "print(res)"
   ]
  },
  {
   "cell_type": "code",
   "execution_count": 8,
   "metadata": {},
   "outputs": [
    {
     "data": {
      "image/png": "[encoded data removed]",
      "text/plain": [
       "<Figure size 700x300 with 1 Axes>"
      ]
     },
     "metadata": {},
     "output_type": "display_data"
    }
   ],
   "source": [
    "time_model.plot()"
   ]
  },
  {
   "cell_type": "markdown",
   "metadata": {},
   "source": []
  }
 ],
 "metadata": {
  "kernelspec": {
   "display_name": "venv",
   "language": "python",
   "name": "python3"
  },
  "language_info": {
   "codemirror_mode": {
    "name": "ipython",
    "version": 3
   },
   "file_extension": ".py",
   "mimetype": "text/x-python",
   "name": "python",
   "nbconvert_exporter": "python",
   "pygments_lexer": "ipython3",
   "version": "3.9.7"
  },
  "orig_nbformat": 4,
  "vscode": {
   "interpreter": {
    "hash": "c80e59d898e7c66d975776755d4e3dc6a2d556add5ce2725f479f7b2dc2ae0e0"
   }
  }
 },
 "nbformat": 4,
 "nbformat_minor": 2
}
