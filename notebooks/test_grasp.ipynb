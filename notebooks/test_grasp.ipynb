{
 "cells": [
  {
   "cell_type": "code",
   "execution_count": 1,
   "metadata": {},
   "outputs": [],
   "source": [
    "import numpy as np\n",
    "import pyomo.environ as pyo\n",
    "from jobshop.params import JobShopRandomParams\n",
    "from jobshop.mip.disjunctive import DisjModel\n",
    "from jobshop.heurstic.grasp import simple_grasp\n",
    "from jobshop.heurstic.evaluation import calc_makespan"
   ]
  },
  {
   "attachments": {},
   "cell_type": "markdown",
   "metadata": {},
   "source": [
    "Path-relinking is being included. Please take a look at [this section](#under-development-path-relinking)"
   ]
  },
  {
   "cell_type": "code",
   "execution_count": 2,
   "metadata": {},
   "outputs": [],
   "source": [
    "np.random.seed(12)\n",
    "params = JobShopRandomParams(4, 5, t_span=(1, 20), seed=12)"
   ]
  },
  {
   "cell_type": "code",
   "execution_count": 3,
   "metadata": {},
   "outputs": [],
   "source": [
    "model = DisjModel(params)\n",
    "solver = pyo.SolverFactory(\"cbc\")\n",
    "solver.options[\"cuts\"] = \"on\"\n",
    "solver.options[\"sec\"] = 10"
   ]
  },
  {
   "cell_type": "code",
   "execution_count": 4,
   "metadata": {},
   "outputs": [
    {
     "name": "stdout",
     "output_type": "stream",
     "text": [
      "Welcome to the CBC MILP Solver \n",
      "Version: 2.10.8 \n",
      "Build Date: May  5 2022 \n",
      "\n",
      "command line - C:\\Users\\Bruno\\Documents\\Programas\\Cbc\\bin\\cbc.exe -cuts on -sec 10 -printingOptions all -import C:\\Users\\Bruno\\AppData\\Local\\Temp\\tmp9z4nlm_k.pyomo.lp -stat=1 -solve -solu C:\\Users\\Bruno\\AppData\\Local\\Temp\\tmp9z4nlm_k.pyomo.soln (default strategy 1)\n",
      "seconds was changed from 1e+100 to 10\n",
      "Option for printingOptions changed from normal to all\n",
      "Presolve 100 (-101) rows, 61 (-61) columns and 280 (-181) elements\n",
      "Statistics for presolved model\n",
      "Original problem has 100 integers (100 of which binary)\n",
      "Presolved problem has 40 integers (40 of which binary)\n",
      "==== 60 zero objective 2 different\n",
      "60 variables have objective of 0\n",
      "1 variables have objective of 1\n",
      "==== absolute objective values 2 different\n",
      "60 variables have objective of 0\n",
      "1 variables have objective of 1\n",
      "==== for integers 40 zero objective 1 different\n",
      "40 variables have objective of 0\n",
      "==== for integers absolute objective values 1 different\n",
      "40 variables have objective of 0\n",
      "===== end objective counts\n",
      "\n",
      "\n",
      "Problem has 100 rows, 61 columns (1 with objective) and 280 elements\n",
      "Column breakdown:\n",
      "21 of type 0.0->inf, 0 of type 0.0->up, 0 of type lo->inf, \n",
      "0 of type lo->up, 0 of type free, 0 of type fixed, \n",
      "0 of type -inf->0.0, 0 of type -inf->up, 40 of type 0.0->1.0 \n",
      "Row breakdown:\n",
      "0 of type E 0.0, 0 of type E 1.0, 0 of type E -1.0, \n",
      "0 of type E other, 0 of type G 0.0, 0 of type G 1.0, \n",
      "0 of type G other, 0 of type L 0.0, 0 of type L 1.0, \n",
      "100 of type L other, 0 of type Range 0.0->1.0, 0 of type Range other, \n",
      "0 of type Free \n",
      "Continuous objective value is 61 - 0.00 seconds\n",
      "Cgl0002I 20 variables fixed\n",
      "Cgl0004I processed model has 100 rows, 61 columns (40 integer (40 of which binary)) and 280 elements\n",
      "Cbc0038I Initial state - 25 integers unsatisfied sum - 2.58416\n",
      "Cbc0038I Pass   1: suminf.    0.00000 (0) obj. 166 iterations 27\n",
      "Cbc0038I Solution found of 166\n",
      "Cbc0038I Relaxing continuous gives 166\n",
      "Cbc0038I Before mini branch and bound, 15 integers at bound fixed and 2 continuous\n",
      "Cbc0038I Full problem 100 rows 61 columns, reduced to 80 rows 42 columns\n",
      "Cbc0038I Mini branch and bound improved solution from 166 to 66 (0.19 seconds)\n",
      "Cbc0038I Round again with cutoff of 65.5\n",
      "Cbc0038I Pass   2: suminf.    1.10644 (14) obj. 65.5 iterations 19\n",
      "Cbc0038I Pass   3: suminf.    0.05941 (4) obj. 65.5 iterations 33\n",
      "Cbc0038I Pass   4: suminf.    0.14109 (4) obj. 65.5 iterations 15\n",
      "Cbc0038I Pass   5: suminf.    0.07921 (2) obj. 65.5 iterations 11\n",
      "Cbc0038I Pass   6: suminf.    0.09653 (2) obj. 65.5 iterations 8\n",
      "Cbc0038I Pass   7: suminf.    0.07673 (2) obj. 65.5 iterations 6\n",
      "Cbc0038I Pass   8: suminf.    0.61386 (7) obj. 65.5 iterations 18\n",
      "Cbc0038I Pass   9: suminf.    2.12871 (21) obj. 65.5 iterations 24\n",
      "Cbc0038I Pass  10: suminf.    0.02228 (1) obj. 65.5 iterations 25\n",
      "Cbc0038I Pass  11: suminf.    0.02228 (2) obj. 65.5 iterations 6\n",
      "Cbc0038I Pass  12: suminf.    0.02228 (1) obj. 65.5 iterations 7\n",
      "Cbc0038I Pass  13: suminf.    0.00248 (1) obj. 65.5 iterations 8\n",
      "Cbc0038I Pass  14: suminf.    0.06683 (1) obj. 65.5 iterations 4\n",
      "Cbc0038I Pass  15: suminf.    0.97525 (9) obj. 65.5 iterations 18\n",
      "Cbc0038I Pass  16: suminf.    0.00248 (1) obj. 65.5 iterations 17\n",
      "Cbc0038I Pass  17: suminf.    0.06683 (1) obj. 65.5 iterations 6\n",
      "Cbc0038I Pass  18: suminf.    1.31683 (12) obj. 65.5 iterations 24\n",
      "Cbc0038I Pass  19: suminf.    0.09653 (5) obj. 65.5 iterations 21\n",
      "Cbc0038I Pass  20: suminf.    0.16584 (4) obj. 65.5 iterations 20\n",
      "Cbc0038I Pass  21: suminf.    0.14356 (4) obj. 65.5 iterations 15\n",
      "Cbc0038I Pass  22: suminf.    0.05198 (2) obj. 65.5 iterations 18\n",
      "Cbc0038I Pass  23: suminf.    0.02228 (1) obj. 65.5 iterations 6\n",
      "Cbc0038I Pass  24: suminf.    0.02228 (2) obj. 65.5 iterations 6\n",
      "Cbc0038I Pass  25: suminf.    0.03218 (2) obj. 65.5 iterations 9\n",
      "Cbc0038I Pass  26: suminf.    0.07921 (2) obj. 65.5 iterations 6\n",
      "Cbc0038I Pass  27: suminf.    0.09653 (2) obj. 65.5 iterations 7\n",
      "Cbc0038I Pass  28: suminf.    0.07673 (2) obj. 65.5 iterations 7\n",
      "Cbc0038I Pass  29: suminf.    2.03465 (16) obj. 65.5 iterations 36\n",
      "Cbc0038I Pass  30: suminf.    0.06683 (1) obj. 65.5 iterations 27\n",
      "Cbc0038I Pass  31: suminf.    0.00248 (1) obj. 65.5 iterations 9\n",
      "Cbc0038I No solution found this major pass\n",
      "Cbc0038I Before mini branch and bound, 4 integers at bound fixed and 0 continuous\n",
      "Cbc0038I Full problem 100 rows 61 columns, reduced to 100 rows 57 columns\n",
      "Cbc0038I Mini branch and bound did not improve solution (0.32 seconds)\n",
      "Cbc0038I After 0.32 seconds - Feasibility pump exiting with objective of 66 - took 0.28 seconds\n",
      "Cbc0012I Integer solution of 66 found by feasibility pump after 0 iterations and 0 nodes (0.32 seconds)\n",
      "Cbc0038I Full problem 100 rows 61 columns, reduced to 100 rows 46 columns\n",
      "Cbc0006I The LP relaxation is infeasible or too expensive\n",
      "Cbc0013I At root node, 0 cuts changed objective from 61 to 79 in 1 passes\n",
      "Cbc0014I Cut generator 0 (Probing) - 61 row cuts average 2.3 elements, 8 column cuts (8 active)  in 0.030 seconds - new frequency is 1\n",
      "Cbc0014I Cut generator 1 (Gomory) - 0 row cuts average 0.0 elements, 0 column cuts (0 active)  in 0.000 seconds - new frequency is 1000\n",
      "Cbc0014I Cut generator 2 (Knapsack) - 0 row cuts average 0.0 elements, 0 column cuts (0 active)  in 0.000 seconds - new frequency is 1000\n",
      "Cbc0014I Cut generator 3 (Clique) - 0 row cuts average 0.0 elements, 0 column cuts (0 active)  in 0.000 seconds - new frequency is 1000\n",
      "Cbc0014I Cut generator 4 (MixedIntegerRounding2) - 0 row cuts average 0.0 elements, 0 column cuts (0 active)  in 0.000 seconds - new frequency is 1000\n",
      "Cbc0014I Cut generator 5 (FlowCover) - 0 row cuts average 0.0 elements, 0 column cuts (0 active)  in 0.000 seconds - new frequency is 1000\n",
      "Cbc0014I Cut generator 7 (ZeroHalf) - 0 row cuts average 0.0 elements, 0 column cuts (0 active)  in 0.000 seconds - new frequency is 1000\n",
      "Cbc0001I Search completed - best objective 66, took 0 iterations and 0 nodes (0.37 seconds)\n",
      "Cbc0035I Maximum depth 0, 0 variables fixed on reduced cost\n",
      "Cuts at root node changed objective from 61 to 79\n",
      "Probing was tried 1 times and created 69 cuts of which 0 were active after adding rounds of cuts (0.030 seconds)\n",
      "Gomory was tried 0 times and created 0 cuts of which 0 were active after adding rounds of cuts (0.000 seconds)\n",
      "Knapsack was tried 0 times and created 0 cuts of which 0 were active after adding rounds of cuts (0.000 seconds)\n",
      "Clique was tried 0 times and created 0 cuts of which 0 were active after adding rounds of cuts (0.000 seconds)\n",
      "MixedIntegerRounding2 was tried 0 times and created 0 cuts of which 0 were active after adding rounds of cuts (0.000 seconds)\n",
      "FlowCover was tried 0 times and created 0 cuts of which 0 were active after adding rounds of cuts (0.000 seconds)\n",
      "TwoMirCuts was tried 0 times and created 0 cuts of which 0 were active after adding rounds of cuts (0.000 seconds)\n",
      "ZeroHalf was tried 0 times and created 0 cuts of which 0 were active after adding rounds of cuts (0.000 seconds)\n",
      "\n",
      "Result - Optimal solution found\n",
      "\n",
      "Objective value:                66.00000000\n",
      "Enumerated nodes:               0\n",
      "Total iterations:               0\n",
      "Time (CPU seconds):             0.38\n",
      "Time (Wallclock seconds):       0.38\n",
      "\n",
      "Total time (CPU seconds):       0.45   (Wallclock seconds):       0.45\n",
      "\n"
     ]
    },
    {
     "data": {
      "text/plain": [
       "{'Problem': [{'Name': 'unknown', 'Lower bound': 66.0, 'Upper bound': 66.0, 'Number of objectives': 1, 'Number of constraints': 100, 'Number of variables': 61, 'Number of binary variables': 100, 'Number of integer variables': 100, 'Number of nonzeros': 1, 'Sense': 'minimize'}], 'Solver': [{'Status': 'ok', 'User time': -1.0, 'System time': 0.45, 'Wallclock time': 0.45, 'Termination condition': 'optimal', 'Termination message': 'Model was solved to optimality (subject to tolerances), and an optimal solution is available.', 'Statistics': {'Branch and bound': {'Number of bounded subproblems': 0, 'Number of created subproblems': 0}, 'Black box': {'Number of iterations': 0}}, 'Error rc': 0, 'Time': 0.8616313934326172}], 'Solution': [OrderedDict([('number of solutions', 0), ('number of solutions displayed', 0)])]}"
      ]
     },
     "execution_count": 4,
     "metadata": {},
     "output_type": "execute_result"
    }
   ],
   "source": [
    "solver.solve(model, tee=True)"
   ]
  },
  {
   "cell_type": "code",
   "execution_count": 5,
   "metadata": {},
   "outputs": [
    {
     "name": "stdout",
     "output_type": "stream",
     "text": [
      "66.0\n"
     ]
    }
   ],
   "source": [
    "print(model.obj())"
   ]
  },
  {
   "cell_type": "code",
   "execution_count": 6,
   "metadata": {},
   "outputs": [],
   "source": [
    "sol_grasp = simple_grasp(params, n_iter=1000, alpha=0.8, seed=12)"
   ]
  },
  {
   "cell_type": "code",
   "execution_count": 7,
   "metadata": {},
   "outputs": [],
   "source": [
    "sol_grasp_alt = simple_grasp(params, n_iter=10, alpha=0.7, seed=15)"
   ]
  },
  {
   "cell_type": "code",
   "execution_count": 8,
   "metadata": {},
   "outputs": [
    {
     "name": "stdout",
     "output_type": "stream",
     "text": [
      "78\n"
     ]
    }
   ],
   "source": [
    "print(sol_grasp.value)"
   ]
  },
  {
   "cell_type": "code",
   "execution_count": 9,
   "metadata": {},
   "outputs": [
    {
     "name": "stdout",
     "output_type": "stream",
     "text": [
      "78\n"
     ]
    }
   ],
   "source": [
    "print(sol_grasp_alt.value)"
   ]
  },
  {
   "cell_type": "code",
   "execution_count": 10,
   "metadata": {},
   "outputs": [],
   "source": [
    "graph = sol_grasp.graph\n",
    "graph_alt = sol_grasp_alt.graph"
   ]
  },
  {
   "cell_type": "code",
   "execution_count": 11,
   "metadata": {},
   "outputs": [
    {
     "data": {
      "text/plain": [
       "78"
      ]
     },
     "execution_count": 11,
     "metadata": {},
     "output_type": "execute_result"
    }
   ],
   "source": [
    "calc_makespan(graph)"
   ]
  },
  {
   "cell_type": "code",
   "execution_count": 12,
   "metadata": {},
   "outputs": [
    {
     "data": {
      "text/plain": [
       "78"
      ]
     },
     "execution_count": 12,
     "metadata": {},
     "output_type": "execute_result"
    }
   ],
   "source": [
    "calc_makespan(graph_alt)"
   ]
  },
  {
   "attachments": {},
   "cell_type": "markdown",
   "metadata": {},
   "source": [
    "## Under development Path-relinking"
   ]
  },
  {
   "cell_type": "code",
   "execution_count": 14,
   "metadata": {},
   "outputs": [],
   "source": [
    "def try_swap(graph, m, i, q):\n",
    "    new_graph = graph.copy()\n",
    "    new_graph.M[m].jobs.swap(i, q)\n",
    "    calc_makespan(new_graph)\n",
    "    if new_graph.C < graph.C:\n",
    "        print(\"We did it, Adrian!\")\n",
    "    else:\n",
    "        print(\"Failed\")\n",
    "    print(new_graph.C)\n",
    "    return new_graph"
   ]
  },
  {
   "cell_type": "code",
   "execution_count": 15,
   "metadata": {},
   "outputs": [
    {
     "data": {
      "text/plain": [
       "{1: {'key': 1, 'jobs': [5.0, 2.0, 1.0, 4.0, 3.0]},\n",
       " 2: {'key': 2, 'jobs': [3.0, 5.0, 1.0, 2.0, 4.0]},\n",
       " 3: {'key': 3, 'jobs': [5.0, 3.0, 2.0, 1.0, 4.0]},\n",
       " 4: {'key': 4, 'jobs': [5.0, 2.0, 4.0, 1.0, 3.0]}}"
      ]
     },
     "execution_count": 15,
     "metadata": {},
     "output_type": "execute_result"
    }
   ],
   "source": [
    "graph.M"
   ]
  },
  {
   "cell_type": "code",
   "execution_count": 16,
   "metadata": {},
   "outputs": [
    {
     "data": {
      "text/plain": [
       "{1: {'key': 1, 'jobs': [5.0, 2.0, 1.0, 4.0, 3.0]},\n",
       " 2: {'key': 2, 'jobs': [3.0, 1.0, 5.0, 2.0, 4.0]},\n",
       " 3: {'key': 3, 'jobs': [5.0, 2.0, 3.0, 1.0, 4.0]},\n",
       " 4: {'key': 4, 'jobs': [5.0, 2.0, 4.0, 1.0, 3.0]}}"
      ]
     },
     "execution_count": 16,
     "metadata": {},
     "output_type": "execute_result"
    }
   ],
   "source": [
    "graph_alt.M"
   ]
  },
  {
   "cell_type": "code",
   "execution_count": 19,
   "metadata": {},
   "outputs": [
    {
     "name": "stdout",
     "output_type": "stream",
     "text": [
      "Failed\n",
      "78\n"
     ]
    },
    {
     "data": {
      "text/plain": [
       "{1: {'key': 1, 'jobs': [5.0, 2.0, 1.0, 4.0, 3.0]},\n",
       " 2: {'key': 2, 'jobs': [3.0, 1.0, 5.0, 2.0, 4.0]},\n",
       " 3: {'key': 3, 'jobs': [5.0, 3.0, 2.0, 1.0, 4.0]},\n",
       " 4: {'key': 4, 'jobs': [5.0, 2.0, 4.0, 1.0, 3.0]}}"
      ]
     },
     "execution_count": 19,
     "metadata": {},
     "output_type": "execute_result"
    }
   ],
   "source": [
    "new_graph = try_swap(graph, 2, 5., 1.)\n",
    "new_graph.M"
   ]
  },
  {
   "cell_type": "code",
   "execution_count": null,
   "metadata": {},
   "outputs": [],
   "source": []
  }
 ],
 "metadata": {
  "kernelspec": {
   "display_name": "venv",
   "language": "python",
   "name": "python3"
  },
  "language_info": {
   "codemirror_mode": {
    "name": "ipython",
    "version": 3
   },
   "file_extension": ".py",
   "mimetype": "text/x-python",
   "name": "python",
   "nbconvert_exporter": "python",
   "pygments_lexer": "ipython3",
   "version": "3.9.7"
  },
  "orig_nbformat": 4,
  "vscode": {
   "interpreter": {
    "hash": "c80e59d898e7c66d975776755d4e3dc6a2d556add5ce2725f479f7b2dc2ae0e0"
   }
  }
 },
 "nbformat": 4,
 "nbformat_minor": 2
}
