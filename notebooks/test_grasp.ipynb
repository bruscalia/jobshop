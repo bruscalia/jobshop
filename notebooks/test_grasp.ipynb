{
 "cells": [
  {
   "cell_type": "code",
   "execution_count": 51,
   "metadata": {},
   "outputs": [],
   "source": [
    "import numpy as np\n",
    "import pyomo.environ as pyo\n",
    "from jobshop.params import JobShopRandomParams\n",
    "from jobshop.mip.disjunctive import DisjModel\n",
    "from jobshop.heurstic.grasp import simple_grasp\n",
    "from jobshop.heurstic.evaluation import calc_makespan"
   ]
  },
  {
   "attachments": {},
   "cell_type": "markdown",
   "metadata": {},
   "source": [
    "Path-relinking is being included. Please take a look at [this section](#under-development-path-relinking)"
   ]
  },
  {
   "cell_type": "code",
   "execution_count": 52,
   "metadata": {},
   "outputs": [],
   "source": [
    "params = JobShopRandomParams(10, 10, seed=12)"
   ]
  },
  {
   "cell_type": "code",
   "execution_count": 48,
   "metadata": {},
   "outputs": [],
   "source": [
    "model = DisjModel(params)\n",
    "solver = pyo.SolverFactory(\"cbc\")\n",
    "solver.options[\"cuts\"] = \"on\"\n",
    "solver.options[\"sec\"] = 10"
   ]
  },
  {
   "cell_type": "code",
   "execution_count": 49,
   "metadata": {},
   "outputs": [
    {
     "name": "stdout",
     "output_type": "stream",
     "text": [
      "Welcome to the CBC MILP Solver \n",
      "Version: 2.10.8 \n",
      "Build Date: May  5 2022 \n",
      "\n",
      "command line - C:\\Users\\Bruno\\Documents\\Programas\\Cbc\\bin\\cbc.exe -cuts on -sec 10 -printingOptions all -import C:\\Users\\Bruno\\AppData\\Local\\Temp\\tmp_9w95dvd.pyomo.lp -stat=1 -solve -solu C:\\Users\\Bruno\\AppData\\Local\\Temp\\tmp_9w95dvd.pyomo.soln (default strategy 1)\n",
      "seconds was changed from 1e+100 to 10\n",
      "Option for printingOptions changed from normal to all\n",
      "Presolve 180 (-181) rows, 106 (-106) columns and 510 (-331) elements\n",
      "Statistics for presolved model\n",
      "Original problem has 180 integers (180 of which binary)\n",
      "Presolved problem has 75 integers (75 of which binary)\n",
      "==== 105 zero objective 2 different\n",
      "105 variables have objective of 0\n",
      "1 variables have objective of 1\n",
      "==== absolute objective values 2 different\n",
      "105 variables have objective of 0\n",
      "1 variables have objective of 1\n",
      "==== for integers 75 zero objective 1 different\n",
      "75 variables have objective of 0\n",
      "==== for integers absolute objective values 1 different\n",
      "75 variables have objective of 0\n",
      "===== end objective counts\n",
      "\n",
      "\n",
      "Problem has 180 rows, 106 columns (1 with objective) and 510 elements\n",
      "Column breakdown:\n",
      "31 of type 0.0->inf, 0 of type 0.0->up, 0 of type lo->inf, \n",
      "0 of type lo->up, 0 of type free, 0 of type fixed, \n",
      "0 of type -inf->0.0, 0 of type -inf->up, 75 of type 0.0->1.0 \n",
      "Row breakdown:\n",
      "0 of type E 0.0, 0 of type E 1.0, 0 of type E -1.0, \n",
      "0 of type E other, 0 of type G 0.0, 0 of type G 1.0, \n",
      "0 of type G other, 9 of type L 0.0, 0 of type L 1.0, \n",
      "171 of type L other, 0 of type Range 0.0->1.0, 0 of type Range other, \n",
      "0 of type Free \n",
      "Continuous objective value is 70 - 0.01 seconds\n",
      "Cgl0002I 30 variables fixed\n",
      "Cgl0004I processed model has 180 rows, 106 columns (75 integer (75 of which binary)) and 510 elements\n",
      "Cbc0038I Initial state - 37 integers unsatisfied sum - 2.35926\n",
      "Cbc0038I Pass   1: suminf.    0.00000 (0) obj. 209 iterations 38\n",
      "Cbc0038I Solution found of 209\n",
      "Cbc0038I Relaxing continuous gives 209\n",
      "Cbc0038I Before mini branch and bound, 38 integers at bound fixed and 3 continuous\n",
      "Cbc0038I Full problem 180 rows 106 columns, reduced to 129 rows 61 columns - too large\n",
      "Cbc0038I Mini branch and bound did not improve solution (0.04 seconds)\n",
      "Cbc0038I Round again with cutoff of 195.1\n",
      "Cbc0038I Pass   2: suminf.    0.05148 (3) obj. 195.1 iterations 3\n",
      "Cbc0038I Pass   3: suminf.    0.00000 (0) obj. 195.1 iterations 6\n",
      "Cbc0038I Solution found of 195.1\n",
      "Cbc0038I Relaxing continuous gives 176\n",
      "Cbc0038I Before mini branch and bound, 38 integers at bound fixed and 3 continuous\n",
      "Cbc0038I Full problem 180 rows 106 columns, reduced to 143 rows 65 columns - 0 fixed gives 143, 65 - still too large\n",
      "Cbc0038I Mini branch and bound did not improve solution (0.05 seconds)\n",
      "Cbc0038I Round again with cutoff of 154.8\n",
      "Cbc0038I Pass   4: suminf.    0.20074 (5) obj. 154.8 iterations 3\n",
      "Cbc0038I Pass   5: suminf.    0.01556 (1) obj. 154.8 iterations 13\n",
      "Cbc0038I Pass   6: suminf.    0.04889 (1) obj. 154.8 iterations 4\n",
      "Cbc0038I Pass   7: suminf.    2.25185 (29) obj. 154.8 iterations 46\n",
      "Cbc0038I Pass   8: suminf.    0.00000 (0) obj. 154.8 iterations 42\n",
      "Cbc0038I Solution found of 154.8\n",
      "Cbc0038I Relaxing continuous gives 128\n",
      "Cbc0038I Before mini branch and bound, 32 integers at bound fixed and 1 continuous\n",
      "Cbc0038I Full problem 180 rows 106 columns, reduced to 162 rows 73 columns - 3 fixed gives 162, 70 - still too large\n",
      "Cbc0038I Mini branch and bound did not improve solution (0.07 seconds)\n",
      "Cbc0038I Round again with cutoff of 110.6\n",
      "Cbc0038I Pass   9: suminf.    0.72370 (14) obj. 110.6 iterations 14\n",
      "Cbc0038I Pass  10: suminf.    0.01630 (1) obj. 110.6 iterations 34\n",
      "Cbc0038I Pass  11: suminf.    0.06444 (2) obj. 110.6 iterations 7\n",
      "Cbc0038I Pass  12: suminf.    0.13704 (2) obj. 110.6 iterations 7\n",
      "Cbc0038I Pass  13: suminf.    1.88519 (18) obj. 110.6 iterations 40\n",
      "Cbc0038I Pass  14: suminf.    0.17407 (2) obj. 110.6 iterations 38\n",
      "Cbc0038I Pass  15: suminf.    0.00000 (0) obj. 110.6 iterations 5\n",
      "Cbc0038I Solution found of 110.6\n",
      "Cbc0038I Relaxing continuous gives 105\n",
      "Cbc0038I Before mini branch and bound, 29 integers at bound fixed and 0 continuous\n",
      "Cbc0038I Full problem 180 rows 106 columns, reduced to 180 rows 77 columns - 2 fixed gives 180, 75 - still too large\n",
      "Cbc0038I Mini branch and bound did not improve solution (0.20 seconds)\n",
      "Cbc0038I Round again with cutoff of 94.5\n",
      "Cbc0038I Pass  16: suminf.    1.12593 (18) obj. 94.5 iterations 6\n",
      "Cbc0038I Pass  17: suminf.    0.13519 (4) obj. 94.5 iterations 43\n",
      "Cbc0038I Pass  18: suminf.    0.06111 (3) obj. 94.5 iterations 19\n",
      "Cbc0038I Pass  19: suminf.    0.17963 (5) obj. 94.5 iterations 14\n",
      "Cbc0038I Pass  20: suminf.    0.18704 (4) obj. 94.5 iterations 12\n",
      "Cbc0038I Pass  21: suminf.    0.15370 (4) obj. 94.5 iterations 14\n",
      "Cbc0038I Pass  22: suminf.    2.75185 (31) obj. 94.5 iterations 59\n",
      "Cbc0038I Pass  23: suminf.    0.69259 (16) obj. 94.5 iterations 25\n",
      "Cbc0038I Pass  24: suminf.    0.08704 (3) obj. 94.5 iterations 29\n",
      "Cbc0038I Pass  25: suminf.    0.06852 (2) obj. 94.5 iterations 13\n",
      "Cbc0038I Pass  26: suminf.    0.03889 (3) obj. 94.5 iterations 8\n",
      "Cbc0038I Pass  27: suminf.    0.13148 (3) obj. 94.5 iterations 11\n",
      "Cbc0038I Pass  28: suminf.    1.15926 (15) obj. 94.5 iterations 39\n",
      "Cbc0038I Pass  29: suminf.    0.13889 (2) obj. 94.5 iterations 30\n",
      "Cbc0038I Pass  30: suminf.    0.01296 (1) obj. 94.5 iterations 6\n",
      "Cbc0038I Pass  31: suminf.    0.01296 (1) obj. 94.5 iterations 4\n",
      "Cbc0038I Pass  32: suminf.    1.60370 (18) obj. 94.5 iterations 35\n",
      "Cbc0038I Pass  33: suminf.    0.12037 (2) obj. 94.5 iterations 41\n",
      "Cbc0038I Pass  34: suminf.    0.01296 (1) obj. 94.5 iterations 5\n",
      "Cbc0038I Pass  35: suminf.    0.01296 (1) obj. 94.5 iterations 4\n",
      "Cbc0038I Pass  36: suminf.    1.14259 (15) obj. 94.5 iterations 41\n",
      "Cbc0038I Pass  37: suminf.    0.11667 (5) obj. 94.5 iterations 36\n",
      "Cbc0038I Pass  38: suminf.    0.25185 (4) obj. 94.5 iterations 12\n",
      "Cbc0038I Pass  39: suminf.    0.05741 (4) obj. 94.5 iterations 10\n",
      "Cbc0038I Pass  40: suminf.    1.00556 (19) obj. 94.5 iterations 32\n",
      "Cbc0038I Pass  41: suminf.    0.22778 (7) obj. 94.5 iterations 31\n",
      "Cbc0038I Pass  42: suminf.    0.01296 (1) obj. 94.5 iterations 24\n",
      "Cbc0038I Pass  43: suminf.    0.02778 (1) obj. 94.5 iterations 7\n",
      "Cbc0038I Pass  44: suminf.    0.93889 (14) obj. 94.5 iterations 38\n",
      "Cbc0038I Pass  45: suminf.    0.14444 (5) obj. 94.5 iterations 32\n",
      "Cbc0038I No solution found this major pass\n",
      "Cbc0038I Before mini branch and bound, 7 integers at bound fixed and 0 continuous\n",
      "Cbc0038I Full problem 180 rows 106 columns, reduced to 180 rows 99 columns - 2 fixed gives 180, 97 - still too large\n",
      "Cbc0038I Mini branch and bound did not improve solution (0.31 seconds)\n",
      "Cbc0038I After 0.31 seconds - Feasibility pump exiting with objective of 105 - took 0.28 seconds\n",
      "Cbc0012I Integer solution of 105 found by feasibility pump after 0 iterations and 0 nodes (0.31 seconds)\n",
      "Cbc0038I Full problem 180 rows 106 columns, reduced to 180 rows 71 columns - 2 fixed gives 180, 69 - still too large\n",
      "Cbc0031I 36 added rows had average density of 8.0833333\n",
      "Cbc0013I At root node, 36 cuts changed objective from 70 to 77.285439 in 100 passes\n",
      "Cbc0014I Cut generator 0 (Probing) - 1644 row cuts average 4.9 elements, 8 column cuts (8 active)  in 0.225 seconds - new frequency is 1\n",
      "Cbc0014I Cut generator 1 (Gomory) - 878 row cuts average 10.5 elements, 0 column cuts (0 active)  in 0.073 seconds - new frequency is 1\n",
      "Cbc0014I Cut generator 2 (Knapsack) - 0 row cuts average 0.0 elements, 0 column cuts (0 active)  in 0.018 seconds - new frequency is 1000\n",
      "Cbc0014I Cut generator 3 (Clique) - 0 row cuts average 0.0 elements, 0 column cuts (0 active)  in 0.007 seconds - new frequency is 1000\n",
      "Cbc0014I Cut generator 4 (MixedIntegerRounding2) - 258 row cuts average 2.3 elements, 0 column cuts (0 active)  in 0.040 seconds - new frequency is 1\n",
      "Cbc0014I Cut generator 5 (FlowCover) - 0 row cuts average 0.0 elements, 0 column cuts (0 active)  in 0.059 seconds - new frequency is 1000\n",
      "Cbc0014I Cut generator 6 (TwoMirCuts) - 279 row cuts average 3.8 elements, 0 column cuts (0 active)  in 0.034 seconds - new frequency is 1\n",
      "Cbc0014I Cut generator 7 (ZeroHalf) - 0 row cuts average 0.0 elements, 0 column cuts (0 active)  in 0.000 seconds - new frequency is 1000\n",
      "Cbc0010I After 0 nodes, 1 on tree, 105 best solution, best possible 77.285439 (1.43 seconds)\n",
      "Cbc0012I Integer solution of 104 found by DiveCoefficient after 6154 iterations and 2 nodes (1.64 seconds)\n",
      "Cbc0012I Integer solution of 103 found by DiveCoefficient after 6714 iterations and 4 nodes (1.82 seconds)\n",
      "Cbc0012I Integer solution of 102 found by DiveCoefficient after 6845 iterations and 5 nodes (1.90 seconds)\n",
      "Cbc0038I Full problem 180 rows 106 columns, reduced to 180 rows 43 columns - 1 fixed gives 180, 42 - still too large\n",
      "Cbc0016I Integer solution of 98 found by strong branching after 8713 iterations and 47 nodes (2.37 seconds)\n",
      "Cbc0038I Full problem 180 rows 106 columns, reduced to 180 rows 41 columns - 5 fixed gives 180, 36 - still too large\n",
      "Cbc0038I Full problem 180 rows 106 columns, reduced to 180 rows 36 columns - 1 fixed gives 180, 35 - still too large\n",
      "Cbc0038I Full problem 180 rows 106 columns, reduced to 180 rows 39 columns - 1 fixed gives 180, 38 - still too large\n",
      "Cbc0038I Full problem 180 rows 106 columns, reduced to 180 rows 38 columns - 1 fixed gives 180, 37 - still too large\n",
      "Cbc0038I Full problem 180 rows 106 columns, reduced to 180 rows 46 columns - 1 fixed gives 180, 45 - still too large\n",
      "Cbc0038I Full problem 180 rows 106 columns, reduced to 180 rows 56 columns - 1 fixed gives 180, 55 - still too large\n",
      "Cbc0038I Full problem 180 rows 106 columns, reduced to 180 rows 62 columns - 1 fixed gives 180, 61 - still too large\n",
      "Cbc0038I Full problem 180 rows 106 columns, reduced to 180 rows 53 columns - 1 fixed gives 180, 52 - still too large\n",
      "Cbc0010I After 1000 nodes, 10 on tree, 98 best solution, best possible 77.285439 (7.29 seconds)\n",
      "Cbc0038I Full problem 180 rows 106 columns, reduced to 180 rows 46 columns - 1 fixed gives 180, 45 - still too large\n",
      "Cbc0020I Exiting on maximum time\n",
      "Cbc0005I Partial search - best objective 98 (best possible 77.285439), took 47702 iterations and 2124 nodes (9.99 seconds)\n",
      "Cbc0032I Strong branching done 6502 times (61381 iterations), fathomed 260 nodes and fixed 598 variables\n",
      "Cbc0041I Maximum depth 25, 40 variables fixed on reduced cost (complete fathoming 1 times, 416 nodes taking 2279 iterations)\n",
      "Cuts at root node changed objective from 70 to 77.2854\n",
      "Probing was tried 2008 times and created 6393 cuts of which 0 were active after adding rounds of cuts (0.717 seconds)\n",
      "Gomory was tried 1969 times and created 5463 cuts of which 0 were active after adding rounds of cuts (0.484 seconds)\n",
      "Knapsack was tried 102 times and created 0 cuts of which 0 were active after adding rounds of cuts (0.018 seconds)\n",
      "Clique was tried 102 times and created 0 cuts of which 0 were active after adding rounds of cuts (0.007 seconds)\n",
      "MixedIntegerRounding2 was tried 1969 times and created 1475 cuts of which 0 were active after adding rounds of cuts (0.497 seconds)\n",
      "FlowCover was tried 102 times and created 0 cuts of which 0 were active after adding rounds of cuts (0.061 seconds)\n",
      "TwoMirCuts was tried 1969 times and created 942 cuts of which 0 were active after adding rounds of cuts (0.319 seconds)\n",
      "ZeroHalf was tried 102 times and created 0 cuts of which 0 were active after adding rounds of cuts (0.000 seconds)\n",
      "ImplicationCuts was tried 349 times and created 51 cuts of which 0 were active after adding rounds of cuts (0.005 seconds)\n",
      "\n",
      "Result - Stopped on time limit\n",
      "\n",
      "Objective value:                98.00000000\n",
      "Lower bound:                    77.285\n",
      "Gap:                            0.27\n",
      "Enumerated nodes:               2124\n",
      "Total iterations:               47702\n",
      "Time (CPU seconds):             9.99\n",
      "Time (Wallclock seconds):       9.99\n",
      "\n",
      "Total time (CPU seconds):       10.02   (Wallclock seconds):       10.02\n",
      "\n",
      "WARNING: Loading a SolverResults object with an 'aborted' status, but\n",
      "    containing a solution\n"
     ]
    },
    {
     "data": {
      "text/plain": [
       "{'Problem': [{'Name': 'unknown', 'Lower bound': 77.285439, 'Upper bound': 98.0, 'Number of objectives': 1, 'Number of constraints': 180, 'Number of variables': 106, 'Number of binary variables': 180, 'Number of integer variables': 180, 'Number of nonzeros': 1, 'Sense': 'minimize'}], 'Solver': [{'Status': 'aborted', 'User time': -1.0, 'System time': 10.02, 'Wallclock time': 10.02, 'Termination condition': 'maxTimeLimit', 'Termination message': 'Optimization terminated because the time expended exceeded the value specified in the seconds parameter.', 'Statistics': {'Branch and bound': {'Number of bounded subproblems': 2124, 'Number of created subproblems': 2124}, 'Black box': {'Number of iterations': 47702}}, 'Error rc': 0, 'Time': 10.454984903335571}], 'Solution': [OrderedDict([('number of solutions', 0), ('number of solutions displayed', 0)])]}"
      ]
     },
     "execution_count": 49,
     "metadata": {},
     "output_type": "execute_result"
    }
   ],
   "source": [
    "solver.solve(model, tee=True)"
   ]
  },
  {
   "cell_type": "code",
   "execution_count": 50,
   "metadata": {},
   "outputs": [
    {
     "name": "stdout",
     "output_type": "stream",
     "text": [
      "98.0\n"
     ]
    }
   ],
   "source": [
    "print(model.obj())"
   ]
  },
  {
   "cell_type": "code",
   "execution_count": 53,
   "metadata": {},
   "outputs": [],
   "source": [
    "sol_grasp = simple_grasp(params, n_iter=1000, alpha=0.8, seed=12)"
   ]
  },
  {
   "cell_type": "code",
   "execution_count": 7,
   "metadata": {},
   "outputs": [],
   "source": [
    "sol_grasp_alt = simple_grasp(params, n_iter=10, alpha=0.7, seed=15)"
   ]
  },
  {
   "cell_type": "code",
   "execution_count": 54,
   "metadata": {},
   "outputs": [
    {
     "name": "stdout",
     "output_type": "stream",
     "text": [
      "167\n"
     ]
    }
   ],
   "source": [
    "print(sol_grasp.value)"
   ]
  },
  {
   "cell_type": "code",
   "execution_count": 9,
   "metadata": {},
   "outputs": [
    {
     "name": "stdout",
     "output_type": "stream",
     "text": [
      "78\n"
     ]
    }
   ],
   "source": [
    "print(sol_grasp_alt.value)"
   ]
  },
  {
   "cell_type": "code",
   "execution_count": 10,
   "metadata": {},
   "outputs": [],
   "source": [
    "graph = sol_grasp.graph\n",
    "graph_alt = sol_grasp_alt.graph"
   ]
  },
  {
   "cell_type": "code",
   "execution_count": 11,
   "metadata": {},
   "outputs": [
    {
     "data": {
      "text/plain": [
       "78"
      ]
     },
     "execution_count": 11,
     "metadata": {},
     "output_type": "execute_result"
    }
   ],
   "source": [
    "calc_makespan(graph)"
   ]
  },
  {
   "cell_type": "code",
   "execution_count": 12,
   "metadata": {},
   "outputs": [
    {
     "data": {
      "text/plain": [
       "78"
      ]
     },
     "execution_count": 12,
     "metadata": {},
     "output_type": "execute_result"
    }
   ],
   "source": [
    "calc_makespan(graph_alt)"
   ]
  },
  {
   "attachments": {},
   "cell_type": "markdown",
   "metadata": {},
   "source": [
    "## Under development Path-relinking"
   ]
  },
  {
   "cell_type": "code",
   "execution_count": 14,
   "metadata": {},
   "outputs": [],
   "source": [
    "def try_swap(graph, m, i, q):\n",
    "    new_graph = graph.copy()\n",
    "    new_graph.M[m].jobs.swap(i, q)\n",
    "    calc_makespan(new_graph)\n",
    "    if new_graph.C < graph.C:\n",
    "        print(\"We did it, Adrian!\")\n",
    "    else:\n",
    "        print(\"Failed\")\n",
    "    print(new_graph.C)\n",
    "    return new_graph"
   ]
  },
  {
   "cell_type": "code",
   "execution_count": 15,
   "metadata": {},
   "outputs": [
    {
     "data": {
      "text/plain": [
       "{1: {'key': 1, 'jobs': [5.0, 2.0, 1.0, 4.0, 3.0]},\n",
       " 2: {'key': 2, 'jobs': [3.0, 5.0, 1.0, 2.0, 4.0]},\n",
       " 3: {'key': 3, 'jobs': [5.0, 3.0, 2.0, 1.0, 4.0]},\n",
       " 4: {'key': 4, 'jobs': [5.0, 2.0, 4.0, 1.0, 3.0]}}"
      ]
     },
     "execution_count": 15,
     "metadata": {},
     "output_type": "execute_result"
    }
   ],
   "source": [
    "graph.M"
   ]
  },
  {
   "cell_type": "code",
   "execution_count": 16,
   "metadata": {},
   "outputs": [
    {
     "data": {
      "text/plain": [
       "{1: {'key': 1, 'jobs': [5.0, 2.0, 1.0, 4.0, 3.0]},\n",
       " 2: {'key': 2, 'jobs': [3.0, 1.0, 5.0, 2.0, 4.0]},\n",
       " 3: {'key': 3, 'jobs': [5.0, 2.0, 3.0, 1.0, 4.0]},\n",
       " 4: {'key': 4, 'jobs': [5.0, 2.0, 4.0, 1.0, 3.0]}}"
      ]
     },
     "execution_count": 16,
     "metadata": {},
     "output_type": "execute_result"
    }
   ],
   "source": [
    "graph_alt.M"
   ]
  },
  {
   "cell_type": "code",
   "execution_count": 19,
   "metadata": {},
   "outputs": [
    {
     "name": "stdout",
     "output_type": "stream",
     "text": [
      "Failed\n",
      "78\n"
     ]
    },
    {
     "data": {
      "text/plain": [
       "{1: {'key': 1, 'jobs': [5.0, 2.0, 1.0, 4.0, 3.0]},\n",
       " 2: {'key': 2, 'jobs': [3.0, 1.0, 5.0, 2.0, 4.0]},\n",
       " 3: {'key': 3, 'jobs': [5.0, 3.0, 2.0, 1.0, 4.0]},\n",
       " 4: {'key': 4, 'jobs': [5.0, 2.0, 4.0, 1.0, 3.0]}}"
      ]
     },
     "execution_count": 19,
     "metadata": {},
     "output_type": "execute_result"
    }
   ],
   "source": [
    "new_graph = try_swap(graph, 2, 5., 1.)\n",
    "new_graph.M"
   ]
  },
  {
   "cell_type": "code",
   "execution_count": null,
   "metadata": {},
   "outputs": [],
   "source": []
  }
 ],
 "metadata": {
  "kernelspec": {
   "display_name": "venv",
   "language": "python",
   "name": "python3"
  },
  "language_info": {
   "codemirror_mode": {
    "name": "ipython",
    "version": 3
   },
   "file_extension": ".py",
   "mimetype": "text/x-python",
   "name": "python",
   "nbconvert_exporter": "python",
   "pygments_lexer": "ipython3",
   "version": "3.9.7"
  },
  "orig_nbformat": 4,
  "vscode": {
   "interpreter": {
    "hash": "c80e59d898e7c66d975776755d4e3dc6a2d556add5ce2725f479f7b2dc2ae0e0"
   }
  }
 },
 "nbformat": 4,
 "nbformat_minor": 2
}
