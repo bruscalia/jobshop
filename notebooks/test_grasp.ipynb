{
 "cells": [
  {
   "cell_type": "code",
   "execution_count": 1,
   "metadata": {},
   "outputs": [],
   "source": [
    "import numpy as np\n",
    "from jobshop.params import JobShopRandomParams\n",
    "from jobshop.heuristic.grasp.simple import grasp\n",
    "from jobshop.heuristic.grasp.pr import grasp_pr"
   ]
  },
  {
   "cell_type": "code",
   "execution_count": 2,
   "metadata": {},
   "outputs": [],
   "source": [
    "params = JobShopRandomParams(10, 10, t_span=(0, 20), seed=12)"
   ]
  },
  {
   "cell_type": "code",
   "execution_count": 3,
   "metadata": {},
   "outputs": [
    {
     "name": "stdout",
     "output_type": "stream",
     "text": [
      "New best solution 200\n",
      "New best solution 194\n",
      "New best solution 184\n",
      "New best solution 182\n",
      "New best solution 180\n",
      "New best solution 176\n",
      "New best solution 171\n",
      "New best solution 169\n",
      "New best solution 166\n",
      "New best solution 164\n",
      "164\n"
     ]
    }
   ],
   "source": [
    "sol_grasp = grasp(params, maxiter=10000, alpha=(0.3, 0.9), seed=12, verbose=True)\n",
    "print(sol_grasp.C)"
   ]
  },
  {
   "cell_type": "code",
   "execution_count": 4,
   "metadata": {},
   "outputs": [
    {
     "data": {
      "image/png": "[encoded data removed]",
      "text/plain": [
       "<Figure size 700x300 with 1 Axes>"
      ]
     },
     "metadata": {},
     "output_type": "display_data"
    }
   ],
   "source": [
    "sol_grasp.plot()"
   ]
  },
  {
   "cell_type": "code",
   "execution_count": 5,
   "metadata": {},
   "outputs": [
    {
     "name": "stdout",
     "output_type": "stream",
     "text": [
      "First solution: 200\n",
      "Starting intensification\n",
      "Finished intensification\n",
      "New best solution: 189\n",
      "Updated Pool: [189. 200.]\n",
      "New quality solution: 189\n",
      "Updated Pool: [189. 189. 200.]\n",
      "New best solution: 176\n",
      "Updated Pool: [176. 189. 189. 200. 201. 202.]\n",
      "New quality solution: 194\n",
      "Updated Pool: [176. 189. 189. 194. 200. 201. 202.]\n",
      "New quality solution: 197\n",
      "Updated Pool: [176. 189. 189. 194. 197. 200. 201. 202. 204.]\n",
      "New quality solution: 203\n",
      "Updated Pool: [176. 189. 189. 194. 197. 200. 201. 202. 203. 204.]\n",
      "New best solution: 173\n",
      "Updated Pool: [173. 176. 189. 189. 194. 197. 200. 201. 202. 203.]\n",
      "New quality solution: 198\n",
      "Updated Pool: [173. 176. 189. 189. 194. 197. 198. 200. 201. 202.]\n",
      "New quality solution: 195\n",
      "Updated Pool: [173. 176. 189. 189. 194. 195. 197. 198. 200. 201.]\n",
      "New quality solution: 180\n",
      "Updated Pool: [173. 176. 180. 189. 189. 194. 195. 197. 198. 200.]\n",
      "New quality solution: 183\n",
      "Updated Pool: [173. 176. 180. 183. 189. 189. 194. 195. 197. 198.]\n",
      "New quality solution: 185\n",
      "Updated Pool: [173. 176. 180. 183. 185. 189. 189. 194. 195. 197.]\n",
      "New quality solution: 187\n",
      "Updated Pool: [173. 176. 180. 183. 185. 187. 189. 189. 194. 195.]\n",
      "New best solution: 170\n",
      "Updated Pool: [170. 173. 176. 180. 183. 185. 187. 189. 189. 194.]\n",
      "New quality solution: 179\n",
      "Updated Pool: [170. 173. 176. 179. 180. 183. 185. 187. 189. 189.]\n",
      "New quality solution: 179\n",
      "Updated Pool: [170. 173. 176. 179. 179. 180. 183. 185. 187. 189.]\n",
      "New best solution: 166\n",
      "Updated Pool: [166. 170. 173. 176. 179. 179. 180. 183. 185. 187.]\n",
      "New best solution: 165\n",
      "Updated Pool: [165. 166. 170. 173. 176. 179. 179. 180. 183. 185.]\n",
      "New quality solution: 169\n",
      "Updated Pool: [165. 166. 169. 170. 173. 176. 179. 179. 180. 183.]\n",
      "New best solution: 164\n",
      "Updated Pool: [164. 165. 166. 169. 170. 173. 176. 179. 179. 180.]\n",
      "New best solution: 162\n",
      "Updated Pool: [162. 164. 165. 166. 169. 170. 173. 176. 179. 179.]\n",
      "New best solution: 161\n",
      "Updated Pool: [161. 162. 164. 165. 166. 169. 170. 173. 176. 179.]\n",
      "Starting intensification\n",
      "New best solution: 160\n",
      "Updated Pool: [160. 161. 162. 164. 165. 166. 169. 170. 173. 176.]\n",
      "New solution to Q: 160\n",
      "Finished intensification\n",
      "New quality solution: 175\n",
      "Updated Pool: [160. 161. 162. 164. 165. 166. 169. 170. 173. 175.]\n",
      "New quality solution: 174\n",
      "Updated Pool: [160. 161. 162. 164. 165. 166. 169. 170. 173. 174.]\n",
      "New quality solution: 173\n",
      "Updated Pool: [160. 161. 162. 164. 165. 166. 169. 170. 173. 173.]\n",
      "Starting intensification\n",
      "Finished intensification\n",
      "Starting intensification\n",
      "Finished intensification\n",
      "Assign half the pool inf values\n",
      "New quality solution: 171\n",
      "Updated Pool: [160. 161. 162. 164. 165. 171.  inf  inf  inf  inf]\n",
      "New quality solution: 173\n",
      "Updated Pool: [160. 161. 162. 164. 165. 171. 173.  inf  inf  inf]\n",
      "New quality solution: 201\n",
      "Updated Pool: [160. 161. 162. 164. 165. 171. 173. 201.  inf  inf]\n",
      "New quality solution: 201\n",
      "Updated Pool: [160. 161. 162. 164. 165. 171. 173. 201. 201.  inf]\n",
      "New quality solution: 193\n",
      "Updated Pool: [160. 161. 162. 164. 165. 171. 173. 193. 201. 201.]\n",
      "New quality solution: 198\n",
      "Updated Pool: [160. 161. 162. 164. 165. 171. 173. 193. 198. 201.]\n",
      "New quality solution: 199\n",
      "Updated Pool: [160. 161. 162. 164. 165. 171. 173. 193. 198. 199.]\n",
      "New quality solution: 168\n",
      "Updated Pool: [160. 161. 162. 164. 165. 168. 171. 173. 193. 198.]\n",
      "New quality solution: 172\n",
      "Updated Pool: [160. 161. 162. 164. 165. 168. 171. 172. 173. 193.]\n",
      "New quality solution: 191\n",
      "Updated Pool: [160. 161. 162. 164. 165. 168. 171. 172. 173. 191.]\n",
      "New quality solution: 182\n",
      "Updated Pool: [160. 161. 162. 164. 165. 168. 171. 172. 173. 182.]\n",
      "New quality solution: 174\n",
      "Updated Pool: [160. 161. 162. 164. 165. 168. 171. 172. 173. 174.]\n",
      "Starting intensification\n",
      "New quality solution: 173\n",
      "Updated Pool: [160. 161. 162. 164. 165. 168. 171. 172. 173. 173.]\n",
      "New solution to Q: 173\n",
      "Finished intensification\n",
      "New quality solution: 170\n",
      "Updated Pool: [160. 161. 162. 164. 165. 168. 170. 171. 172. 173.]\n",
      "New quality solution: 170\n",
      "Updated Pool: [160. 161. 162. 164. 165. 168. 170. 170. 171. 172.]\n",
      "New quality solution: 162\n",
      "Updated Pool: [160. 161. 162. 162. 164. 165. 168. 170. 170. 171.]\n",
      "Starting intensification\n",
      "Finished intensification\n",
      "Starting intensification\n",
      "Finished intensification\n",
      "Assign half the pool inf values\n",
      "New quality solution: 180\n",
      "Updated Pool: [160. 161. 162. 162. 164. 180.  inf  inf  inf  inf]\n",
      "New quality solution: 198\n",
      "Updated Pool: [160. 161. 162. 162. 164. 180. 198.  inf  inf  inf]\n",
      "New quality solution: 176\n",
      "Updated Pool: [160. 161. 162. 162. 164. 176. 180. 198.  inf  inf]\n",
      "New quality solution: 190\n",
      "Updated Pool: [160. 161. 162. 162. 164. 176. 180. 190. 198.  inf]\n",
      "New quality solution: 181\n",
      "Updated Pool: [160. 161. 162. 162. 164. 176. 180. 181. 190. 198.]\n",
      "New quality solution: 182\n",
      "Updated Pool: [160. 161. 162. 162. 164. 176. 180. 181. 182. 190.]\n",
      "New quality solution: 184\n",
      "Updated Pool: [160. 161. 162. 162. 164. 176. 180. 181. 182. 184.]\n",
      "New quality solution: 176\n",
      "Updated Pool: [160. 161. 162. 162. 164. 176. 176. 180. 181. 182.]\n",
      "New quality solution: 172\n",
      "Updated Pool: [160. 161. 162. 162. 164. 172. 176. 176. 180. 181.]\n",
      "New quality solution: 179\n",
      "Updated Pool: [160. 161. 162. 162. 164. 172. 176. 176. 179. 180.]\n",
      "New quality solution: 170\n",
      "Updated Pool: [160. 161. 162. 162. 164. 170. 172. 176. 176. 179.]\n",
      "New quality solution: 176\n",
      "Updated Pool: [160. 161. 162. 162. 164. 170. 172. 176. 176. 176.]\n",
      "New quality solution: 171\n",
      "Updated Pool: [160. 161. 162. 162. 164. 170. 171. 172. 176. 176.]\n",
      "New quality solution: 167\n",
      "Updated Pool: [160. 161. 162. 162. 164. 167. 170. 171. 172. 176.]\n",
      "New quality solution: 169\n",
      "Updated Pool: [160. 161. 162. 162. 164. 167. 169. 170. 171. 172.]\n",
      "New quality solution: 171\n",
      "Updated Pool: [160. 161. 162. 162. 164. 167. 169. 170. 171. 171.]\n",
      "New quality solution: 169\n",
      "Updated Pool: [160. 161. 162. 162. 164. 167. 169. 169. 170. 171.]\n",
      "New quality solution: 170\n",
      "Updated Pool: [160. 161. 162. 162. 164. 167. 169. 169. 170. 170.]\n",
      "Starting intensification\n",
      "Finished intensification\n",
      "Starting intensification\n",
      "Finished intensification\n",
      "Assign half the pool inf values\n",
      "New quality solution: 178\n",
      "Updated Pool: [160. 161. 162. 162. 164. 178.  inf  inf  inf  inf]\n",
      "New quality solution: 198\n",
      "Updated Pool: [160. 161. 162. 162. 164. 178. 198.  inf  inf  inf]\n",
      "New quality solution: 171\n",
      "Updated Pool: [160. 161. 162. 162. 164. 171. 178. 198.  inf  inf]\n",
      "New quality solution: 169\n",
      "Updated Pool: [160. 161. 162. 162. 164. 169. 171. 178. 198.  inf]\n",
      "New quality solution: 214\n",
      "Updated Pool: [160. 161. 162. 162. 164. 169. 171. 178. 198. 214.]\n",
      "New quality solution: 205\n",
      "Updated Pool: [160. 161. 162. 162. 164. 169. 171. 178. 198. 205.]\n",
      "New quality solution: 180\n",
      "Updated Pool: [160. 161. 162. 162. 164. 169. 171. 178. 180. 198.]\n",
      "New quality solution: 179\n",
      "Updated Pool: [160. 161. 162. 162. 164. 169. 171. 178. 179. 180.]\n",
      "New quality solution: 175\n",
      "Updated Pool: [160. 161. 162. 162. 164. 169. 171. 175. 178. 179.]\n",
      "New quality solution: 178\n",
      "Updated Pool: [160. 161. 162. 162. 164. 169. 171. 175. 178. 178.]\n",
      "New quality solution: 161\n",
      "Updated Pool: [160. 161. 161. 162. 162. 164. 169. 171. 175. 178.]\n",
      "New quality solution: 173\n",
      "Updated Pool: [160. 161. 161. 162. 162. 164. 169. 171. 173. 175.]\n",
      "Starting intensification\n",
      "New best solution: 159\n",
      "Updated Pool: [159. 160. 161. 161. 162. 162. 164. 169. 171. 173.]\n",
      "New solution to Q: 159\n",
      "New best solution: 158\n",
      "Updated Pool: [158. 159. 160. 161. 161. 162. 162. 164. 169. 171.]\n",
      "New solution to Q: 158\n",
      "Finished intensification\n",
      "New quality solution: 167\n",
      "Updated Pool: [158. 159. 160. 161. 161. 162. 162. 164. 167. 169.]\n",
      "New quality solution: 167\n",
      "Updated Pool: [158. 159. 160. 161. 161. 162. 162. 164. 167. 167.]\n"
     ]
    }
   ],
   "source": [
    "sol_grasp_pr = grasp_pr(params, maxiter=1000, ifreq=100, mixed_construction=True, init_iter=0.7, alpha=(0.3, 0.9), maxpool=10, seed=12, verbose=True)"
   ]
  },
  {
   "cell_type": "code",
   "execution_count": 6,
   "metadata": {},
   "outputs": [
    {
     "data": {
      "text/plain": [
       "158"
      ]
     },
     "execution_count": 6,
     "metadata": {},
     "output_type": "execute_result"
    }
   ],
   "source": [
    "sol_grasp_pr[0].C"
   ]
  },
  {
   "cell_type": "code",
   "execution_count": 7,
   "metadata": {},
   "outputs": [
    {
     "data": {
      "image/png": "[encoded data removed]",
      "text/plain": [
       "<Figure size 700x300 with 1 Axes>"
      ]
     },
     "metadata": {},
     "output_type": "display_data"
    }
   ],
   "source": [
    "sol_grasp_pr[0].plot()"
   ]
  },
  {
   "cell_type": "code",
   "execution_count": null,
   "metadata": {},
   "outputs": [],
   "source": []
  }
 ],
 "metadata": {
  "kernelspec": {
   "display_name": "venv",
   "language": "python",
   "name": "python3"
  },
  "language_info": {
   "codemirror_mode": {
    "name": "ipython",
    "version": 3
   },
   "file_extension": ".py",
   "mimetype": "text/x-python",
   "name": "python",
   "nbconvert_exporter": "python",
   "pygments_lexer": "ipython3",
   "version": "3.9.7"
  },
  "orig_nbformat": 4,
  "vscode": {
   "interpreter": {
    "hash": "c80e59d898e7c66d975776755d4e3dc6a2d556add5ce2725f479f7b2dc2ae0e0"
   }
  }
 },
 "nbformat": 4,
 "nbformat_minor": 2
}
