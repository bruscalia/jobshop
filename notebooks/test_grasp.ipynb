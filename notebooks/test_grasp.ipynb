{
 "cells": [
  {
   "cell_type": "code",
   "execution_count": 1,
   "metadata": {},
   "outputs": [],
   "source": [
    "import numpy as np\n",
    "import pyomo.environ as pyo\n",
    "from jobshop.params import JobShopRandomParams\n",
    "from jobshop.mip.disjunctive import DisjModel\n",
    "from jobshop.heurstic.grasp.simple import grasp\n",
    "from jobshop.heurstic.grasp.pr import grasp_pr, grasp_pr_alt"
   ]
  },
  {
   "attachments": {},
   "cell_type": "markdown",
   "metadata": {},
   "source": [
    "Path-relinking is being included. Please take a look at [this section](#under-development-path-relinking)"
   ]
  },
  {
   "cell_type": "code",
   "execution_count": 2,
   "metadata": {},
   "outputs": [],
   "source": [
    "params = JobShopRandomParams(10, 10, t_span=(0, 20), seed=12)"
   ]
  },
  {
   "attachments": {},
   "cell_type": "markdown",
   "metadata": {},
   "source": [
    "Para a instancia 8x10 (0, 20) seed=12 124 é ótimo\n",
    "Para a instancia 10x12 (0, 20) seed=12 166 é ótimo\n",
    "Para a instancia 15x15 (0, 20) seed=12 226 parece ótimo"
   ]
  },
  {
   "cell_type": "code",
   "execution_count": 9,
   "metadata": {},
   "outputs": [],
   "source": [
    "model = DisjModel(params)\n",
    "solver = pyo.SolverFactory(\"cbc\")\n",
    "solver.options[\"cuts\"] = \"on\"\n",
    "solver.options[\"sec\"] = 10"
   ]
  },
  {
   "cell_type": "code",
   "execution_count": 10,
   "metadata": {},
   "outputs": [
    {
     "name": "stdout",
     "output_type": "stream",
     "text": [
      "Welcome to the CBC MILP Solver \n",
      "Version: 2.10.8 \n",
      "Build Date: May  5 2022 \n",
      "\n",
      "command line - C:\\Users\\Bruno\\Documents\\Programas\\Cbc\\bin\\cbc.exe -cuts on -sec 10 -printingOptions all -import C:\\Users\\Bruno\\AppData\\Local\\Temp\\tmpayko8nwp.pyomo.lp -stat=1 -solve -solu C:\\Users\\Bruno\\AppData\\Local\\Temp\\tmpayko8nwp.pyomo.soln (default strategy 1)\n",
      "seconds was changed from 1e+100 to 10\n",
      "Option for printingOptions changed from normal to all\n",
      "Presolve 512 (-513) rows, 289 (-289) columns and 1472 (-961) elements\n",
      "Statistics for presolved model\n",
      "Original problem has 512 integers (512 of which binary)\n",
      "Presolved problem has 224 integers (224 of which binary)\n",
      "==== 288 zero objective 2 different\n",
      "288 variables have objective of 0\n",
      "1 variables have objective of 1\n",
      "==== absolute objective values 2 different\n",
      "288 variables have objective of 0\n",
      "1 variables have objective of 1\n",
      "==== for integers 224 zero objective 1 different\n",
      "224 variables have objective of 0\n",
      "==== for integers absolute objective values 1 different\n",
      "224 variables have objective of 0\n",
      "===== end objective counts\n",
      "\n",
      "\n",
      "Problem has 512 rows, 289 columns (1 with objective) and 1472 elements\n",
      "Column breakdown:\n",
      "65 of type 0.0->inf, 0 of type 0.0->up, 0 of type lo->inf, \n",
      "0 of type lo->up, 0 of type free, 0 of type fixed, \n",
      "0 of type -inf->0.0, 0 of type -inf->up, 224 of type 0.0->1.0 \n",
      "Row breakdown:\n",
      "0 of type E 0.0, 0 of type E 1.0, 0 of type E -1.0, \n",
      "0 of type E other, 0 of type G 0.0, 0 of type G 1.0, \n",
      "0 of type G other, 24 of type L 0.0, 0 of type L 1.0, \n",
      "488 of type L other, 0 of type Range 0.0->1.0, 0 of type Range other, \n",
      "0 of type Free \n",
      "Continuous objective value is 105 - 0.03 seconds\n",
      "Cgl0002I 64 variables fixed\n",
      "Cgl0004I processed model has 512 rows, 289 columns (224 integer (224 of which binary)) and 1472 elements\n",
      "Cbc0038I Initial state - 113 integers unsatisfied sum - 6.20255\n",
      "Cbc0038I Pass   1: suminf.    0.00000 (0) obj. 478 iterations 120\n",
      "Cbc0038I Solution found of 478\n",
      "Cbc0038I Relaxing continuous gives 478\n",
      "Cbc0038I Before mini branch and bound, 111 integers at bound fixed and 2 continuous\n",
      "Cbc0038I Full problem 512 rows 289 columns, reduced to 427 rows 174 columns - too large\n",
      "Cbc0038I Mini branch and bound did not improve solution (0.23 seconds)\n",
      "Cbc0038I Round again with cutoff of 440.7\n",
      "Cbc0038I Pass   2: suminf.    0.06807 (6) obj. 440.7 iterations 7\n",
      "Cbc0038I Pass   3: suminf.    0.00000 (0) obj. 440.7 iterations 13\n",
      "Cbc0038I Solution found of 440.7\n",
      "Cbc0038I Relaxing continuous gives 439\n",
      "Cbc0038I Before mini branch and bound, 111 integers at bound fixed and 2 continuous\n",
      "Cbc0038I Full problem 512 rows 289 columns, reduced to 479 rows 176 columns - 0 fixed gives 479, 176 - still too large\n",
      "Cbc0038I Mini branch and bound did not improve solution (0.30 seconds)\n",
      "Cbc0038I Round again with cutoff of 372.2\n",
      "Cbc0038I Pass   4: suminf.    0.28577 (11) obj. 372.2 iterations 7\n",
      "Cbc0038I Pass   5: suminf.    0.00000 (0) obj. 372.2 iterations 21\n",
      "Cbc0038I Solution found of 372.2\n",
      "Cbc0038I Relaxing continuous gives 354\n",
      "Cbc0038I Before mini branch and bound, 111 integers at bound fixed and 2 continuous\n",
      "Cbc0038I Full problem 512 rows 289 columns, reduced to 479 rows 176 columns - 6 fixed gives 479, 170 - still too large\n",
      "Cbc0038I Mini branch and bound did not improve solution (0.36 seconds)\n",
      "Cbc0038I Round again with cutoff of 279.3\n",
      "Cbc0038I Pass   6: suminf.    0.65712 (16) obj. 279.3 iterations 6\n",
      "Cbc0038I Pass   7: suminf.    0.04142 (2) obj. 279.3 iterations 27\n",
      "Cbc0038I Pass   8: suminf.    0.00858 (3) obj. 279.3 iterations 10\n",
      "Cbc0038I Pass   9: suminf.    0.07427 (4) obj. 279.3 iterations 10\n",
      "Cbc0038I Pass  10: suminf.    0.00858 (2) obj. 279.3 iterations 11\n",
      "Cbc0038I Pass  11: suminf.    0.03230 (1) obj. 279.3 iterations 7\n",
      "Cbc0038I Pass  12: suminf.    0.00493 (1) obj. 279.3 iterations 3\n",
      "Cbc0038I Pass  13: suminf.    4.55109 (78) obj. 279.3 iterations 109\n",
      "Cbc0038I Pass  14: suminf.    1.06934 (32) obj. 279.3 iterations 80\n",
      "Cbc0038I Pass  15: suminf.    0.02555 (1) obj. 279.3 iterations 38\n",
      "Cbc0038I Solution found of 279.3\n",
      "Cbc0038I Relaxing continuous gives 248\n",
      "Cbc0038I Before mini branch and bound, 88 integers at bound fixed and 1 continuous\n",
      "Cbc0038I Full problem 512 rows 289 columns, reduced to 497 rows 200 columns - 6 fixed gives 497, 194 - still too large\n",
      "Cbc0038I Mini branch and bound did not improve solution (0.48 seconds)\n",
      "Cbc0038I Round again with cutoff of 205.1\n",
      "Cbc0038I Pass  16: suminf.    1.40912 (33) obj. 205.1 iterations 25\n",
      "Cbc0038I Pass  17: suminf.    0.09270 (6) obj. 205.1 iterations 63\n",
      "Cbc0038I Pass  18: suminf.    0.04361 (4) obj. 205.1 iterations 24\n",
      "Cbc0038I Pass  19: suminf.    0.02354 (3) obj. 205.1 iterations 16\n",
      "Cbc0038I Pass  20: suminf.    0.03266 (2) obj. 205.1 iterations 11\n",
      "Cbc0038I Pass  21: suminf.    0.01807 (3) obj. 205.1 iterations 9\n",
      "Cbc0038I Pass  22: suminf.    0.06186 (3) obj. 205.1 iterations 10\n",
      "Cbc0038I Pass  23: suminf.    3.00730 (67) obj. 205.1 iterations 87\n",
      "Cbc0038I Pass  24: suminf.    1.60584 (44) obj. 205.1 iterations 35\n",
      "Cbc0038I Pass  25: suminf.    0.08011 (4) obj. 205.1 iterations 66\n",
      "Cbc0038I Pass  26: suminf.    0.01989 (2) obj. 205.1 iterations 14\n",
      "Cbc0038I Pass  27: suminf.    0.02172 (2) obj. 205.1 iterations 8\n",
      "Cbc0038I Pass  28: suminf.    4.20985 (77) obj. 205.1 iterations 115\n",
      "Cbc0038I Pass  29: suminf.    1.93066 (52) obj. 205.1 iterations 61\n",
      "Cbc0038I Pass  30: suminf.    0.59854 (17) obj. 205.1 iterations 54\n",
      "Cbc0038I Pass  31: suminf.    0.01825 (1) obj. 205.1 iterations 28\n",
      "Cbc0038I Solution found of 205.1\n",
      "Cbc0038I Relaxing continuous gives 203\n",
      "Cbc0038I Before mini branch and bound, 68 integers at bound fixed and 0 continuous\n",
      "Cbc0038I Full problem 512 rows 289 columns, reduced to 512 rows 221 columns - 6 fixed gives 512, 215 - still too large\n",
      "Cbc0038I Mini branch and bound did not improve solution (0.63 seconds)\n",
      "Cbc0038I Round again with cutoff of 163.8\n",
      "Cbc0038I Pass  32: suminf.    2.15949 (45) obj. 163.8 iterations 20\n",
      "Cbc0038I Pass  33: suminf.    0.42956 (22) obj. 163.8 iterations 63\n",
      "Cbc0038I Pass  34: suminf.    0.14854 (9) obj. 163.8 iterations 48\n",
      "Cbc0038I Pass  35: suminf.    0.07701 (4) obj. 163.8 iterations 29\n",
      "Cbc0038I Pass  36: suminf.    0.06022 (2) obj. 163.8 iterations 8\n",
      "Cbc0038I Pass  37: suminf.    0.00219 (1) obj. 163.8 iterations 9\n",
      "Cbc0038I Pass  38: suminf.    0.02956 (2) obj. 163.8 iterations 5\n",
      "Cbc0038I Pass  39: suminf.    0.00766 (2) obj. 163.8 iterations 5\n",
      "Cbc0038I Pass  40: suminf.    3.06934 (58) obj. 163.8 iterations 102\n",
      "Cbc0038I Pass  41: suminf.    1.08796 (29) obj. 163.8 iterations 50\n",
      "Cbc0038I Pass  42: suminf.    0.02409 (3) obj. 163.8 iterations 38\n",
      "Cbc0038I Pass  43: suminf.    0.00000 (0) obj. 163.8 iterations 6\n",
      "Cbc0038I Solution found of 163.8\n",
      "Cbc0038I Relaxing continuous gives 160\n",
      "Cbc0038I Before mini branch and bound, 87 integers at bound fixed and 2 continuous\n",
      "Cbc0038I Full problem 512 rows 289 columns, reduced to 483 rows 198 columns - 6 fixed gives 483, 192 - still too large\n",
      "Cbc0038I Mini branch and bound did not improve solution (0.76 seconds)\n",
      "Cbc0038I After 0.80 seconds - Feasibility pump exiting with objective of 160 - took 0.63 seconds\n",
      "Cbc0012I Integer solution of 160 found by feasibility pump after 0 iterations and 0 nodes (0.80 seconds)\n",
      "Cbc0038I Full problem 512 rows 289 columns, reduced to 512 rows 180 columns - 6 fixed gives 512, 174 - still too large\n",
      "Cbc0012I Integer solution of 154 found by DiveCoefficient after 2450 iterations and 0 nodes (6.90 seconds)\n",
      "Cbc0031I 95 added rows had average density of 6.4947368\n",
      "Cbc0013I At root node, 95 cuts changed objective from 105 to 113 in 100 passes\n",
      "Cbc0014I Cut generator 0 (Probing) - 541 row cuts average 3.0 elements, 1 column cuts (8 active)  in 2.686 seconds - new frequency is 1\n",
      "Cbc0014I Cut generator 1 (Gomory) - 408 row cuts average 7.0 elements, 0 column cuts (0 active)  in 0.573 seconds - new frequency is 1\n",
      "Cbc0014I Cut generator 2 (Knapsack) - 0 row cuts average 0.0 elements, 0 column cuts (0 active)  in 0.067 seconds - new frequency is 1000\n",
      "Cbc0014I Cut generator 3 (Clique) - 0 row cuts average 0.0 elements, 0 column cuts (0 active)  in 0.030 seconds - new frequency is 1000\n",
      "Cbc0014I Cut generator 4 (MixedIntegerRounding2) - 186 row cuts average 2.2 elements, 0 column cuts (0 active)  in 0.225 seconds - new frequency is 1\n",
      "Cbc0014I Cut generator 5 (FlowCover) - 0 row cuts average 0.0 elements, 0 column cuts (0 active)  in 0.311 seconds - new frequency is 1000\n",
      "Cbc0014I Cut generator 6 (TwoMirCuts) - 382 row cuts average 7.6 elements, 0 column cuts (0 active)  in 0.247 seconds - new frequency is 1\n",
      "Cbc0014I Cut generator 7 (ZeroHalf) - 0 row cuts average 0.0 elements, 0 column cuts (0 active)  in 0.000 seconds - new frequency is 1000\n",
      "Cbc0010I After 0 nodes, 1 on tree, 154 best solution, best possible 113 (8.35 seconds)\n",
      "Cbc0012I Integer solution of 149 found by DiveCoefficient after 2451 iterations and 1 nodes (8.77 seconds)\n",
      "Cbc0012I Integer solution of 147 found by DiveCoefficient after 2834 iterations and 1 nodes (9.62 seconds)\n",
      "Cbc0012I Integer solution of 144 found by DiveCoefficient after 2951 iterations and 2 nodes (9.83 seconds)\n",
      "Cbc0020I Exiting on maximum time\n",
      "Cbc0005I Partial search - best objective 144 (best possible 113), took 3141 iterations and 2 nodes (10.13 seconds)\n",
      "Cbc0032I Strong branching done 174 times (7156 iterations), fathomed 0 nodes and fixed 0 variables\n",
      "Cbc0035I Maximum depth 2, 0 variables fixed on reduced cost\n",
      "Cuts at root node changed objective from 105 to 113\n",
      "Probing was tried 107 times and created 585 cuts of which 7 were active after adding rounds of cuts (2.714 seconds)\n",
      "Gomory was tried 107 times and created 438 cuts of which 0 were active after adding rounds of cuts (0.599 seconds)\n",
      "Knapsack was tried 102 times and created 0 cuts of which 0 were active after adding rounds of cuts (0.068 seconds)\n",
      "Clique was tried 102 times and created 0 cuts of which 0 were active after adding rounds of cuts (0.032 seconds)\n",
      "MixedIntegerRounding2 was tried 107 times and created 208 cuts of which 0 were active after adding rounds of cuts (0.243 seconds)\n",
      "FlowCover was tried 102 times and created 0 cuts of which 0 were active after adding rounds of cuts (0.316 seconds)\n",
      "TwoMirCuts was tried 107 times and created 426 cuts of which 0 were active after adding rounds of cuts (0.299 seconds)\n",
      "ZeroHalf was tried 102 times and created 0 cuts of which 0 were active after adding rounds of cuts (0.000 seconds)\n",
      "\n",
      "Result - Stopped on time limit\n",
      "\n",
      "Objective value:                144.00000000\n",
      "Lower bound:                    113.000\n",
      "Gap:                            0.27\n",
      "Enumerated nodes:               2\n",
      "Total iterations:               3141\n",
      "Time (CPU seconds):             10.17\n",
      "Time (Wallclock seconds):       10.17\n",
      "\n",
      "Total time (CPU seconds):       10.22   (Wallclock seconds):       10.22\n",
      "\n",
      "WARNING: Loading a SolverResults object with an 'aborted' status, but\n",
      "    containing a solution\n"
     ]
    },
    {
     "data": {
      "text/plain": [
       "{'Problem': [{'Name': 'unknown', 'Lower bound': 113.0, 'Upper bound': 144.0, 'Number of objectives': 1, 'Number of constraints': 512, 'Number of variables': 289, 'Number of binary variables': 512, 'Number of integer variables': 512, 'Number of nonzeros': 1, 'Sense': 'minimize'}], 'Solver': [{'Status': 'aborted', 'User time': -1.0, 'System time': 10.22, 'Wallclock time': 10.22, 'Termination condition': 'maxTimeLimit', 'Termination message': 'Optimization terminated because the time expended exceeded the value specified in the seconds parameter.', 'Statistics': {'Branch and bound': {'Number of bounded subproblems': 2, 'Number of created subproblems': 2}, 'Black box': {'Number of iterations': 3141}}, 'Error rc': 0, 'Time': 10.5070219039917}], 'Solution': [OrderedDict([('number of solutions', 0), ('number of solutions displayed', 0)])]}"
      ]
     },
     "execution_count": 10,
     "metadata": {},
     "output_type": "execute_result"
    }
   ],
   "source": [
    "solver.solve(model, tee=True)"
   ]
  },
  {
   "cell_type": "code",
   "execution_count": 11,
   "metadata": {},
   "outputs": [
    {
     "data": {
      "image/png": "[encoded data removed]",
      "text/plain": [
       "<Figure size 700x300 with 1 Axes>"
      ]
     },
     "metadata": {},
     "output_type": "display_data"
    }
   ],
   "source": [
    "model.plot()"
   ]
  },
  {
   "cell_type": "code",
   "execution_count": 12,
   "metadata": {},
   "outputs": [
    {
     "name": "stdout",
     "output_type": "stream",
     "text": [
      "144.0\n"
     ]
    }
   ],
   "source": [
    "print(model.obj())"
   ]
  },
  {
   "cell_type": "code",
   "execution_count": 3,
   "metadata": {},
   "outputs": [
    {
     "name": "stdout",
     "output_type": "stream",
     "text": [
      "New best solution 206\n",
      "New best solution 188\n",
      "New best solution 179\n",
      "New best solution 172\n",
      "New best solution 170\n",
      "New best solution 164\n",
      "New best solution 158\n"
     ]
    }
   ],
   "source": [
    "sol_grasp = grasp(params, n_iter=10000, alpha=(0.3, 0.9), seed=12, verbose=True)"
   ]
  },
  {
   "cell_type": "code",
   "execution_count": 4,
   "metadata": {},
   "outputs": [
    {
     "data": {
      "text/plain": [
       "158"
      ]
     },
     "execution_count": 4,
     "metadata": {},
     "output_type": "execute_result"
    }
   ],
   "source": [
    "sol_grasp.C"
   ]
  },
  {
   "cell_type": "code",
   "execution_count": 5,
   "metadata": {},
   "outputs": [
    {
     "data": {
      "image/png": "[encoded data removed]",
      "text/plain": [
       "<Figure size 700x300 with 1 Axes>"
      ]
     },
     "metadata": {},
     "output_type": "display_data"
    }
   ],
   "source": [
    "sol_grasp.plot()"
   ]
  },
  {
   "cell_type": "code",
   "execution_count": 6,
   "metadata": {},
   "outputs": [
    {
     "name": "stdout",
     "output_type": "stream",
     "text": [
      "First solution: 206\n",
      "New best solution: 188\n",
      "Updated Pool: [188. 206.]\n",
      "New quality solution: 205\n",
      "Updated Pool: [188. 205. 206.]\n",
      "New quality solution: 199\n",
      "Updated Pool: [188. 199. 205. 206.]\n",
      "New quality solution: 196\n",
      "Updated Pool: [188. 196. 199. 205. 206.]\n",
      "New best solution: 179\n",
      "Updated Pool: [179. 188. 196. 199. 205. 206.]\n",
      "New best solution: 172\n",
      "Updated Pool: [172. 179. 188. 196. 199. 205. 206. 207.]\n",
      "New quality solution: 180\n",
      "Updated Pool: [172. 179. 180. 188. 196. 199. 205. 206. 207.]\n",
      "New quality solution: 186\n",
      "Updated Pool: [172. 179. 180. 186. 188. 196. 199. 205. 206. 207.]\n",
      "New quality solution: 189\n",
      "Updated Pool: [172. 179. 180. 186. 188. 189. 196. 199. 205. 206. 207.]\n",
      "New quality solution: 207\n",
      "Updated Pool: [172. 179. 180. 186. 188. 189. 196. 199. 205. 206. 207. 207.]\n",
      "New quality solution: 195\n",
      "Updated Pool: [172. 179. 180. 186. 188. 189. 195. 196. 199. 205. 206. 207. 207. 212.]\n",
      "New quality solution: 200\n",
      "Updated Pool: [172. 179. 180. 186. 188. 189. 195. 196. 199. 200. 205. 206. 207. 207.\n",
      " 212. 213.]\n",
      "New quality solution: 210\n",
      "Updated Pool: [172. 179. 180. 186. 188. 189. 195. 196. 199. 200. 205. 206. 207. 207.\n",
      " 210. 212. 213.]\n",
      "New quality solution: 185\n",
      "Updated Pool: [172. 179. 180. 185. 186. 188. 189. 195. 196. 199. 200. 205. 206. 207.\n",
      " 207. 210. 212. 213.]\n",
      "New quality solution: 184\n",
      "Updated Pool: [172. 179. 180. 184. 185. 186. 188. 189. 195. 196. 199. 200. 205. 206.\n",
      " 207. 207. 210. 212. 213.]\n",
      "New quality solution: 200\n",
      "Updated Pool: [172. 179. 180. 184. 185. 186. 188. 189. 195. 196. 199. 200. 200. 205.\n",
      " 206. 207. 207. 210. 212. 213.]\n",
      "New quality solution: 200\n",
      "Updated Pool: [172. 179. 180. 184. 185. 186. 188. 189. 195. 196. 199. 200. 200. 200.\n",
      " 205. 206. 207. 207. 210. 212.]\n",
      "New quality solution: 195\n",
      "Updated Pool: [172. 179. 180. 184. 185. 186. 188. 189. 195. 195. 196. 199. 200. 200.\n",
      " 200. 205. 206. 207. 207. 210.]\n",
      "New best solution: 168\n",
      "Updated Pool: [168. 172. 179. 180. 184. 185. 186. 188. 189. 195. 195. 196. 199. 200.\n",
      " 200. 200. 205. 206. 207. 207.]\n"
     ]
    }
   ],
   "source": [
    "sol_grasp_pr = grasp_pr(params, n_iter=10000, init_iter=0.5, alpha=(0.3, 0.9), maxpool=20, seed=12, verbose=True)"
   ]
  },
  {
   "cell_type": "code",
   "execution_count": 58,
   "metadata": {},
   "outputs": [
    {
     "data": {
      "text/plain": [
       "161"
      ]
     },
     "execution_count": 58,
     "metadata": {},
     "output_type": "execute_result"
    }
   ],
   "source": [
    "sol_grasp_pr[0].C"
   ]
  },
  {
   "cell_type": "code",
   "execution_count": 59,
   "metadata": {},
   "outputs": [
    {
     "data": {
      "image/png": "[encoded data removed]",
      "text/plain": [
       "<Figure size 700x300 with 1 Axes>"
      ]
     },
     "metadata": {},
     "output_type": "display_data"
    }
   ],
   "source": [
    "sol_grasp_pr[0].plot()"
   ]
  },
  {
   "cell_type": "code",
   "execution_count": null,
   "metadata": {},
   "outputs": [],
   "source": []
  }
 ],
 "metadata": {
  "kernelspec": {
   "display_name": "venv",
   "language": "python",
   "name": "python3"
  },
  "language_info": {
   "codemirror_mode": {
    "name": "ipython",
    "version": 3
   },
   "file_extension": ".py",
   "mimetype": "text/x-python",
   "name": "python",
   "nbconvert_exporter": "python",
   "pygments_lexer": "ipython3",
   "version": "3.9.7"
  },
  "orig_nbformat": 4,
  "vscode": {
   "interpreter": {
    "hash": "c80e59d898e7c66d975776755d4e3dc6a2d556add5ce2725f479f7b2dc2ae0e0"
   }
  }
 },
 "nbformat": 4,
 "nbformat_minor": 2
}
