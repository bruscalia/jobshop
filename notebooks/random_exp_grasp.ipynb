{
 "cells": [
  {
   "cell_type": "code",
   "execution_count": 11,
   "metadata": {},
   "outputs": [],
   "source": [
    "import numpy as np\n",
    "from jobshop.params import JobShopRandomParams\n",
    "from jobshop.heuristic.grasp.simple import grasp\n",
    "from jobshop.heuristic.grasp.pr import grasp_pr"
   ]
  },
  {
   "cell_type": "code",
   "execution_count": 12,
   "metadata": {},
   "outputs": [],
   "source": [
    "params = JobShopRandomParams(8, 10, t_span=(0, 20), seed=12)"
   ]
  },
  {
   "cell_type": "code",
   "execution_count": 13,
   "metadata": {},
   "outputs": [
    {
     "name": "stdout",
     "output_type": "stream",
     "text": [
      "New best solution 163\n",
      "New best solution 146\n",
      "New best solution 144\n",
      "New best solution 142\n",
      "New best solution 141\n",
      "New best solution 137\n",
      "New best solution 133\n",
      "New best solution 132\n",
      "132\n"
     ]
    }
   ],
   "source": [
    "sol_grasp = grasp(params, maxiter=1000, alpha=(0.3, 0.9), seed=13, verbose=True)\n",
    "print(sol_grasp.C)"
   ]
  },
  {
   "cell_type": "code",
   "execution_count": 14,
   "metadata": {},
   "outputs": [
    {
     "data": {
      "image/png": "[encoded data removed]",
      "text/plain": [
       "<Figure size 700x300 with 1 Axes>"
      ]
     },
     "metadata": {},
     "output_type": "display_data"
    }
   ],
   "source": [
    "sol_grasp.plot()"
   ]
  },
  {
   "cell_type": "code",
   "execution_count": 15,
   "metadata": {},
   "outputs": [
    {
     "name": "stdout",
     "output_type": "stream",
     "text": [
      "First solution: 193\n",
      "Starting intensification\n",
      "Finished intensification\n",
      "New best solution: 152\n",
      "Updated Pool: [152. 193.]\n",
      "New quality solution: 165\n",
      "Updated Pool: [152. 165. 193.]\n",
      "New best solution: 147\n",
      "Updated Pool: [147. 152. 165. 193.]\n",
      "New quality solution: 178\n",
      "Updated Pool: [147. 152. 165. 178. 193.]\n",
      "New quality solution: 169\n",
      "Updated Pool: [147. 152. 165. 169. 178. 193.]\n",
      "New quality solution: 147\n",
      "Updated Pool: [147. 147. 152. 165. 169. 178. 193.]\n",
      "New quality solution: 153\n",
      "Updated Pool: [147. 147. 152. 153. 165. 169. 178. 193.]\n",
      "New quality solution: 153\n",
      "Updated Pool: [147. 147. 152. 153. 153. 165. 169. 178. 193.]\n",
      "New best solution: 145\n",
      "Updated Pool: [145. 147. 147. 152. 153. 153. 165. 169. 178. 193.]\n",
      "New best solution: 141\n",
      "Updated Pool: [141. 145. 147. 147. 152. 153. 153. 165. 169. 178.]\n",
      "New quality solution: 141\n",
      "Updated Pool: [141. 141. 145. 147. 147. 152. 153. 153. 165. 169.]\n",
      "New quality solution: 143\n",
      "Updated Pool: [141. 141. 143. 145. 147. 147. 152. 153. 153. 165.]\n",
      "New best solution: 136\n",
      "Updated Pool: [136. 141. 141. 143. 145. 147. 147. 152. 153. 153.]\n",
      "New best solution: 134\n",
      "Updated Pool: [134. 136. 141. 141. 143. 145. 147. 147. 152. 153.]\n",
      "New quality solution: 135\n",
      "Updated Pool: [134. 135. 136. 141. 141. 143. 145. 147. 147. 152.]\n",
      "New quality solution: 143\n",
      "Updated Pool: [134. 135. 136. 141. 141. 143. 143. 145. 147. 147.]\n",
      "New quality solution: 140\n",
      "Updated Pool: [134. 135. 136. 140. 141. 141. 143. 143. 145. 147.]\n",
      "New quality solution: 143\n",
      "Updated Pool: [134. 135. 136. 140. 141. 141. 143. 143. 143. 145.]\n",
      "New quality solution: 134\n",
      "Updated Pool: [134. 134. 135. 136. 140. 141. 141. 143. 143. 143.]\n",
      "New quality solution: 140\n",
      "Updated Pool: [134. 134. 135. 136. 140. 140. 141. 141. 143. 143.]\n",
      "New quality solution: 141\n",
      "Updated Pool: [134. 134. 135. 136. 140. 140. 141. 141. 141. 143.]\n",
      "New quality solution: 142\n",
      "Updated Pool: [134. 134. 135. 136. 140. 140. 141. 141. 141. 142.]\n",
      "New quality solution: 141\n",
      "Updated Pool: [134. 134. 135. 136. 140. 140. 141. 141. 141. 141.]\n",
      "New quality solution: 139\n",
      "Updated Pool: [134. 134. 135. 136. 139. 140. 140. 141. 141. 141.]\n",
      "New quality solution: 134\n",
      "Updated Pool: [134. 134. 134. 135. 136. 139. 140. 140. 141. 141.]\n",
      "New quality solution: 136\n",
      "Updated Pool: [134. 134. 134. 135. 136. 136. 139. 140. 140. 141.]\n",
      "New best solution: 129\n",
      "Updated Pool: [129. 134. 134. 134. 135. 136. 136. 139. 140. 140.]\n",
      "New best solution: 128\n",
      "Updated Pool: [128. 129. 134. 134. 134. 135. 136. 136. 139. 140.]\n",
      "New quality solution: 138\n",
      "Updated Pool: [128. 129. 134. 134. 134. 135. 136. 136. 138. 139.]\n",
      "New quality solution: 134\n",
      "Updated Pool: [128. 129. 134. 134. 134. 134. 135. 136. 136. 138.]\n",
      "New quality solution: 135\n",
      "Updated Pool: [128. 129. 134. 134. 134. 134. 135. 135. 136. 136.]\n",
      "New quality solution: 134\n",
      "Updated Pool: [128. 129. 134. 134. 134. 134. 134. 135. 135. 136.]\n",
      "Starting intensification\n",
      "Finished intensification\n",
      "New quality solution: 130\n",
      "Updated Pool: [128. 129. 130. 134. 134. 134. 134. 134. 135. 135.]\n",
      "Starting intensification\n",
      "Finished intensification\n",
      "Starting intensification\n",
      "Finished intensification\n",
      "Assign half the pool inf values\n",
      "New pool: [128. 129. 130. 134. 134.  inf  inf  inf  inf  inf]\n",
      "New quality solution: 142\n",
      "Updated Pool: [128. 129. 130. 134. 134. 142.  inf  inf  inf  inf]\n",
      "New quality solution: 173\n",
      "Updated Pool: [128. 129. 130. 134. 134. 142. 173.  inf  inf  inf]\n",
      "New quality solution: 144\n",
      "Updated Pool: [128. 129. 130. 134. 134. 142. 144. 173.  inf  inf]\n",
      "New quality solution: 175\n",
      "Updated Pool: [128. 129. 130. 134. 134. 142. 144. 173. 175.  inf]\n",
      "New quality solution: 161\n",
      "Updated Pool: [128. 129. 130. 134. 134. 142. 144. 161. 173. 175.]\n",
      "New quality solution: 145\n",
      "Updated Pool: [128. 129. 130. 134. 134. 142. 144. 145. 161. 173.]\n",
      "New quality solution: 134\n",
      "Updated Pool: [128. 129. 130. 134. 134. 134. 142. 144. 145. 161.]\n",
      "New quality solution: 134\n",
      "Updated Pool: [128. 129. 130. 134. 134. 134. 134. 142. 144. 145.]\n",
      "New quality solution: 141\n",
      "Updated Pool: [128. 129. 130. 134. 134. 134. 134. 141. 142. 144.]\n",
      "New quality solution: 142\n",
      "Updated Pool: [128. 129. 130. 134. 134. 134. 134. 141. 142. 142.]\n",
      "New quality solution: 140\n",
      "Updated Pool: [128. 129. 130. 134. 134. 134. 134. 140. 141. 142.]\n",
      "New quality solution: 138\n",
      "Updated Pool: [128. 129. 130. 134. 134. 134. 134. 138. 140. 141.]\n",
      "New quality solution: 136\n",
      "Updated Pool: [128. 129. 130. 134. 134. 134. 134. 136. 138. 140.]\n",
      "New quality solution: 134\n",
      "Updated Pool: [128. 129. 130. 134. 134. 134. 134. 134. 136. 138.]\n",
      "New quality solution: 128\n",
      "Updated Pool: [128. 128. 129. 130. 134. 134. 134. 134. 134. 136.]\n",
      "New quality solution: 134\n",
      "Updated Pool: [128. 128. 129. 130. 134. 134. 134. 134. 134. 134.]\n",
      "New best solution: 127\n",
      "Updated Pool: [127. 128. 128. 129. 130. 134. 134. 134. 134. 134.]\n",
      "Starting intensification\n",
      "Finished intensification\n",
      "Starting intensification\n",
      "Finished intensification\n",
      "Assign half the pool inf values\n",
      "New pool: [127. 128. 128. 129. 130.  inf  inf  inf  inf  inf]\n",
      "New quality solution: 147\n",
      "Updated Pool: [127. 128. 128. 129. 130. 147.  inf  inf  inf  inf]\n",
      "New quality solution: 142\n",
      "Updated Pool: [127. 128. 128. 129. 130. 142. 147.  inf  inf  inf]\n",
      "New quality solution: 134\n",
      "Updated Pool: [127. 128. 128. 129. 130. 134. 142. 147.  inf  inf]\n",
      "New quality solution: 181\n",
      "Updated Pool: [127. 128. 128. 129. 130. 134. 142. 147. 181.  inf]\n",
      "New quality solution: 172\n",
      "Updated Pool: [127. 128. 128. 129. 130. 134. 142. 147. 172. 181.]\n",
      "New quality solution: 178\n",
      "Updated Pool: [127. 128. 128. 129. 130. 134. 142. 147. 172. 178.]\n",
      "New quality solution: 176\n",
      "Updated Pool: [127. 128. 128. 129. 130. 134. 142. 147. 172. 176.]\n",
      "New quality solution: 134\n",
      "Updated Pool: [127. 128. 128. 129. 130. 134. 134. 142. 147. 172.]\n",
      "New quality solution: 143\n",
      "Updated Pool: [127. 128. 128. 129. 130. 134. 134. 142. 143. 147.]\n",
      "New quality solution: 143\n",
      "Updated Pool: [127. 128. 128. 129. 130. 134. 134. 142. 143. 143.]\n",
      "New quality solution: 142\n",
      "Updated Pool: [127. 128. 128. 129. 130. 134. 134. 142. 142. 143.]\n",
      "New quality solution: 142\n",
      "Updated Pool: [127. 128. 128. 129. 130. 134. 134. 142. 142. 142.]\n",
      "New quality solution: 135\n",
      "Updated Pool: [127. 128. 128. 129. 130. 134. 134. 135. 142. 142.]\n",
      "New quality solution: 135\n",
      "Updated Pool: [127. 128. 128. 129. 130. 134. 134. 135. 135. 142.]\n",
      "New quality solution: 134\n",
      "Updated Pool: [127. 128. 128. 129. 130. 134. 134. 134. 135. 135.]\n",
      "Starting intensification\n",
      "Finished intensification\n",
      "New quality solution: 132\n",
      "Updated Pool: [127. 128. 128. 129. 130. 132. 134. 134. 134. 135.]\n",
      "New quality solution: 133\n",
      "Updated Pool: [127. 128. 128. 129. 130. 132. 133. 134. 134. 134.]\n",
      "Starting intensification\n",
      "Finished intensification\n",
      "New quality solution: 130\n",
      "Updated Pool: [127. 128. 128. 129. 130. 130. 132. 133. 134. 134.]\n",
      "Starting intensification\n",
      "Finished intensification\n",
      "Starting intensification\n",
      "Finished intensification\n",
      "Assign half the pool inf values\n",
      "New pool: [127. 128. 128. 129. 130.  inf  inf  inf  inf  inf]\n",
      "New quality solution: 157\n",
      "Updated Pool: [127. 128. 128. 129. 130. 157.  inf  inf  inf  inf]\n",
      "New quality solution: 168\n",
      "Updated Pool: [127. 128. 128. 129. 130. 157. 168.  inf  inf  inf]\n",
      "New quality solution: 147\n",
      "Updated Pool: [127. 128. 128. 129. 130. 147. 157. 168.  inf  inf]\n",
      "New quality solution: 173\n",
      "Updated Pool: [127. 128. 128. 129. 130. 147. 157. 168. 173.  inf]\n",
      "New quality solution: 175\n",
      "Updated Pool: [127. 128. 128. 129. 130. 147. 157. 168. 173. 175.]\n",
      "New quality solution: 168\n",
      "Updated Pool: [127. 128. 128. 129. 130. 147. 157. 168. 168. 173.]\n",
      "New quality solution: 155\n",
      "Updated Pool: [127. 128. 128. 129. 130. 147. 155. 157. 168. 168.]\n",
      "New quality solution: 157\n",
      "Updated Pool: [127. 128. 128. 129. 130. 147. 155. 157. 157. 168.]\n",
      "New quality solution: 157\n",
      "Updated Pool: [127. 128. 128. 129. 130. 147. 155. 157. 157. 157.]\n",
      "New quality solution: 156\n",
      "Updated Pool: [127. 128. 128. 129. 130. 147. 155. 156. 157. 157.]\n",
      "New quality solution: 129\n",
      "Updated Pool: [127. 128. 128. 129. 129. 130. 147. 155. 156. 157.]\n",
      "New quality solution: 144\n",
      "Updated Pool: [127. 128. 128. 129. 129. 130. 144. 147. 155. 156.]\n",
      "New quality solution: 143\n",
      "Updated Pool: [127. 128. 128. 129. 129. 130. 143. 144. 147. 155.]\n",
      "New quality solution: 139\n",
      "Updated Pool: [127. 128. 128. 129. 129. 130. 139. 143. 144. 147.]\n",
      "New quality solution: 142\n",
      "Updated Pool: [127. 128. 128. 129. 129. 130. 139. 142. 143. 144.]\n",
      "New quality solution: 143\n",
      "Updated Pool: [127. 128. 128. 129. 129. 130. 139. 142. 143. 143.]\n",
      "New quality solution: 142\n",
      "Updated Pool: [127. 128. 128. 129. 129. 130. 139. 142. 142. 143.]\n",
      "New quality solution: 140\n",
      "Updated Pool: [127. 128. 128. 129. 129. 130. 139. 140. 142. 142.]\n",
      "New quality solution: 137\n",
      "Updated Pool: [127. 128. 128. 129. 129. 130. 137. 139. 140. 142.]\n",
      "Starting intensification\n",
      "Finished intensification\n",
      "New quality solution: 137\n",
      "Updated Pool: [127. 128. 128. 129. 129. 130. 137. 137. 139. 140.]\n",
      "New quality solution: 129\n",
      "Updated Pool: [127. 128. 128. 129. 129. 129. 130. 137. 137. 139.]\n",
      "New quality solution: 136\n",
      "Updated Pool: [127. 128. 128. 129. 129. 129. 130. 136. 137. 137.]\n",
      "New quality solution: 136\n",
      "Updated Pool: [127. 128. 128. 129. 129. 129. 130. 136. 136. 137.]\n",
      "New quality solution: 132\n",
      "Updated Pool: [127. 128. 128. 129. 129. 129. 130. 132. 136. 136.]\n",
      "New quality solution: 134\n",
      "Updated Pool: [127. 128. 128. 129. 129. 129. 130. 132. 134. 136.]\n",
      "New quality solution: 130\n",
      "Updated Pool: [127. 128. 128. 129. 129. 129. 130. 130. 132. 134.]\n",
      "Starting intensification\n",
      "Finished intensification\n",
      "New quality solution: 129\n",
      "Updated Pool: [127. 128. 128. 129. 129. 129. 129. 130. 130. 132.]\n",
      "Starting intensification\n",
      "Finished intensification\n"
     ]
    },
    {
     "ename": "KeyboardInterrupt",
     "evalue": "",
     "output_type": "error",
     "traceback": [
      "\u001b[1;31m---------------------------------------------------------------------------\u001b[0m",
      "\u001b[1;31mKeyboardInterrupt\u001b[0m                         Traceback (most recent call last)",
      "Cell \u001b[1;32mIn[15], line 1\u001b[0m\n\u001b[1;32m----> 1\u001b[0m sol_grasp_pr \u001b[39m=\u001b[39m grasp_pr(\n\u001b[0;32m      2\u001b[0m     params, maxiter\u001b[39m=\u001b[39;49m\u001b[39m10000\u001b[39;49m, ifreq\u001b[39m=\u001b[39;49m\u001b[39m500\u001b[39;49m, mixed_construction\u001b[39m=\u001b[39;49m\u001b[39mTrue\u001b[39;49;00m,\n\u001b[0;32m      3\u001b[0m     alpha\u001b[39m=\u001b[39;49m(\u001b[39m0.3\u001b[39;49m, \u001b[39m0.9\u001b[39;49m), maxpool\u001b[39m=\u001b[39;49m\u001b[39m10\u001b[39;49m, target\u001b[39m=\u001b[39;49m\u001b[39mNone\u001b[39;49;00m, seed\u001b[39m=\u001b[39;49m\u001b[39m12\u001b[39;49m, verbose\u001b[39m=\u001b[39;49m\u001b[39mTrue\u001b[39;49;00m,\n\u001b[0;32m      4\u001b[0m )\n",
      "File \u001b[1;32mc:\\Users\\Bruno\\OneDrive\\Área de Trabalho\\Python Packages\\jobshop\\venv\\lib\\site-packages\\jobshop-0.0.1.dev23-py3.9.egg\\jobshop\\heuristic\\grasp\\pr.py:339\u001b[0m, in \u001b[0;36mgrasp_pr\u001b[1;34m(params, maxiter, init_iter, alpha, maxpool, ifreq, min_diff, target, post_opt, mixed_construction, verbose, seed)\u001b[0m\n\u001b[0;32m    337\u001b[0m \u001b[39mif\u001b[39;00m accepted:\n\u001b[0;32m    338\u001b[0m     \u001b[39mfor\u001b[39;00m T \u001b[39min\u001b[39;00m P:\n\u001b[1;32m--> 339\u001b[0m         S_gmin \u001b[39m=\u001b[39m path_relinking(S, T, min_delta\u001b[39m=\u001b[39;49m\u001b[39m2\u001b[39;49m)\n\u001b[0;32m    340\u001b[0m         P, C_pool \u001b[39m=\u001b[39m update_pool(S_gmin, P, C_pool, min_delta\u001b[39m=\u001b[39mmin_delta, verbose\u001b[39m=\u001b[39mverbose)\n\u001b[0;32m    341\u001b[0m         \u001b[39mif\u001b[39;00m C_pool[\u001b[39m0\u001b[39m] \u001b[39m<\u001b[39m\u001b[39m=\u001b[39m target:\n",
      "File \u001b[1;32mc:\\Users\\Bruno\\OneDrive\\Área de Trabalho\\Python Packages\\jobshop\\venv\\lib\\site-packages\\jobshop-0.0.1.dev23-py3.9.egg\\jobshop\\heuristic\\path_relinking.py:25\u001b[0m, in \u001b[0;36mPathRelinking.__call__\u001b[1;34m(self, S, T, min_delta)\u001b[0m\n\u001b[0;32m     23\u001b[0m     \u001b[39mreturn\u001b[39;00m \u001b[39mself\u001b[39m\u001b[39m.\u001b[39mvisited_paths[sig_s, sig_t, min_delta]\u001b[39m.\u001b[39mcopy()\n\u001b[0;32m     24\u001b[0m \u001b[39melse\u001b[39;00m:\n\u001b[1;32m---> 25\u001b[0m     S_gmin \u001b[39m=\u001b[39m path_relinking(S, T)\n\u001b[0;32m     26\u001b[0m     \u001b[39mself\u001b[39m\u001b[39m.\u001b[39mvisited_paths[sig_s, sig_t, min_delta] \u001b[39m=\u001b[39m S_gmin\n\u001b[0;32m     27\u001b[0m     \u001b[39mreturn\u001b[39;00m S_gmin\n",
      "File \u001b[1;32mc:\\Users\\Bruno\\OneDrive\\Área de Trabalho\\Python Packages\\jobshop\\venv\\lib\\site-packages\\jobshop-0.0.1.dev23-py3.9.egg\\jobshop\\heuristic\\path_relinking.py:68\u001b[0m, in \u001b[0;36mpath_relinking\u001b[1;34m(S, T, min_delta)\u001b[0m\n\u001b[0;32m     64\u001b[0m \u001b[39mfor\u001b[39;00m m \u001b[39min\u001b[39;00m S\u001b[39m.\u001b[39mmachines:\n\u001b[0;32m     65\u001b[0m     \n\u001b[0;32m     66\u001b[0m     \u001b[39m# Iterate over swaps of machine\u001b[39;00m\n\u001b[0;32m     67\u001b[0m     \u001b[39mfor\u001b[39;00m (i, j) \u001b[39min\u001b[39;00m delta_sol[m]:\n\u001b[1;32m---> 68\u001b[0m         S_alt \u001b[39m=\u001b[39m S\u001b[39m.\u001b[39;49mcopy()\n\u001b[0;32m     69\u001b[0m         S_alt\u001b[39m.\u001b[39mM[m]\u001b[39m.\u001b[39mjobs\u001b[39m.\u001b[39mswap(i, j)\n\u001b[0;32m     70\u001b[0m         c_alt \u001b[39m=\u001b[39m calc_makespan(S_alt)\n",
      "File \u001b[1;32mc:\\Users\\Bruno\\OneDrive\\Área de Trabalho\\Python Packages\\jobshop\\venv\\lib\\site-packages\\jobshop-0.0.1.dev23-py3.9.egg\\jobshop\\heuristic\\operations.py:171\u001b[0m, in \u001b[0;36mGraph.copy\u001b[1;34m(self)\u001b[0m\n\u001b[0;32m    170\u001b[0m \u001b[39mdef\u001b[39;00m \u001b[39mcopy\u001b[39m(\u001b[39mself\u001b[39m):\n\u001b[1;32m--> 171\u001b[0m     \u001b[39mreturn\u001b[39;00m copy\u001b[39m.\u001b[39;49mdeepcopy(\u001b[39mself\u001b[39;49m)\n",
      "File \u001b[1;32m~\\AppData\\Local\\Programs\\Python\\Python39\\lib\\copy.py:172\u001b[0m, in \u001b[0;36mdeepcopy\u001b[1;34m(x, memo, _nil)\u001b[0m\n\u001b[0;32m    170\u001b[0m                 y \u001b[39m=\u001b[39m x\n\u001b[0;32m    171\u001b[0m             \u001b[39melse\u001b[39;00m:\n\u001b[1;32m--> 172\u001b[0m                 y \u001b[39m=\u001b[39m _reconstruct(x, memo, \u001b[39m*\u001b[39;49mrv)\n\u001b[0;32m    174\u001b[0m \u001b[39m# If is its own copy, don't memoize.\u001b[39;00m\n\u001b[0;32m    175\u001b[0m \u001b[39mif\u001b[39;00m y \u001b[39mis\u001b[39;00m \u001b[39mnot\u001b[39;00m x:\n",
      "File \u001b[1;32m~\\AppData\\Local\\Programs\\Python\\Python39\\lib\\copy.py:270\u001b[0m, in \u001b[0;36m_reconstruct\u001b[1;34m(x, memo, func, args, state, listiter, dictiter, deepcopy)\u001b[0m\n\u001b[0;32m    268\u001b[0m \u001b[39mif\u001b[39;00m state \u001b[39mis\u001b[39;00m \u001b[39mnot\u001b[39;00m \u001b[39mNone\u001b[39;00m:\n\u001b[0;32m    269\u001b[0m     \u001b[39mif\u001b[39;00m deep:\n\u001b[1;32m--> 270\u001b[0m         state \u001b[39m=\u001b[39m deepcopy(state, memo)\n\u001b[0;32m    271\u001b[0m     \u001b[39mif\u001b[39;00m \u001b[39mhasattr\u001b[39m(y, \u001b[39m'\u001b[39m\u001b[39m__setstate__\u001b[39m\u001b[39m'\u001b[39m):\n\u001b[0;32m    272\u001b[0m         y\u001b[39m.\u001b[39m__setstate__(state)\n",
      "File \u001b[1;32m~\\AppData\\Local\\Programs\\Python\\Python39\\lib\\copy.py:146\u001b[0m, in \u001b[0;36mdeepcopy\u001b[1;34m(x, memo, _nil)\u001b[0m\n\u001b[0;32m    144\u001b[0m copier \u001b[39m=\u001b[39m _deepcopy_dispatch\u001b[39m.\u001b[39mget(\u001b[39mcls\u001b[39m)\n\u001b[0;32m    145\u001b[0m \u001b[39mif\u001b[39;00m copier \u001b[39mis\u001b[39;00m \u001b[39mnot\u001b[39;00m \u001b[39mNone\u001b[39;00m:\n\u001b[1;32m--> 146\u001b[0m     y \u001b[39m=\u001b[39m copier(x, memo)\n\u001b[0;32m    147\u001b[0m \u001b[39melse\u001b[39;00m:\n\u001b[0;32m    148\u001b[0m     \u001b[39mif\u001b[39;00m \u001b[39missubclass\u001b[39m(\u001b[39mcls\u001b[39m, \u001b[39mtype\u001b[39m):\n",
      "File \u001b[1;32m~\\AppData\\Local\\Programs\\Python\\Python39\\lib\\copy.py:230\u001b[0m, in \u001b[0;36m_deepcopy_dict\u001b[1;34m(x, memo, deepcopy)\u001b[0m\n\u001b[0;32m    228\u001b[0m memo[\u001b[39mid\u001b[39m(x)] \u001b[39m=\u001b[39m y\n\u001b[0;32m    229\u001b[0m \u001b[39mfor\u001b[39;00m key, value \u001b[39min\u001b[39;00m x\u001b[39m.\u001b[39mitems():\n\u001b[1;32m--> 230\u001b[0m     y[deepcopy(key, memo)] \u001b[39m=\u001b[39m deepcopy(value, memo)\n\u001b[0;32m    231\u001b[0m \u001b[39mreturn\u001b[39;00m y\n",
      "File \u001b[1;32m~\\AppData\\Local\\Programs\\Python\\Python39\\lib\\copy.py:146\u001b[0m, in \u001b[0;36mdeepcopy\u001b[1;34m(x, memo, _nil)\u001b[0m\n\u001b[0;32m    144\u001b[0m copier \u001b[39m=\u001b[39m _deepcopy_dispatch\u001b[39m.\u001b[39mget(\u001b[39mcls\u001b[39m)\n\u001b[0;32m    145\u001b[0m \u001b[39mif\u001b[39;00m copier \u001b[39mis\u001b[39;00m \u001b[39mnot\u001b[39;00m \u001b[39mNone\u001b[39;00m:\n\u001b[1;32m--> 146\u001b[0m     y \u001b[39m=\u001b[39m copier(x, memo)\n\u001b[0;32m    147\u001b[0m \u001b[39melse\u001b[39;00m:\n\u001b[0;32m    148\u001b[0m     \u001b[39mif\u001b[39;00m \u001b[39missubclass\u001b[39m(\u001b[39mcls\u001b[39m, \u001b[39mtype\u001b[39m):\n",
      "File \u001b[1;32m~\\AppData\\Local\\Programs\\Python\\Python39\\lib\\copy.py:230\u001b[0m, in \u001b[0;36m_deepcopy_dict\u001b[1;34m(x, memo, deepcopy)\u001b[0m\n\u001b[0;32m    228\u001b[0m memo[\u001b[39mid\u001b[39m(x)] \u001b[39m=\u001b[39m y\n\u001b[0;32m    229\u001b[0m \u001b[39mfor\u001b[39;00m key, value \u001b[39min\u001b[39;00m x\u001b[39m.\u001b[39mitems():\n\u001b[1;32m--> 230\u001b[0m     y[deepcopy(key, memo)] \u001b[39m=\u001b[39m deepcopy(value, memo)\n\u001b[0;32m    231\u001b[0m \u001b[39mreturn\u001b[39;00m y\n",
      "File \u001b[1;32m~\\AppData\\Local\\Programs\\Python\\Python39\\lib\\copy.py:172\u001b[0m, in \u001b[0;36mdeepcopy\u001b[1;34m(x, memo, _nil)\u001b[0m\n\u001b[0;32m    170\u001b[0m                 y \u001b[39m=\u001b[39m x\n\u001b[0;32m    171\u001b[0m             \u001b[39melse\u001b[39;00m:\n\u001b[1;32m--> 172\u001b[0m                 y \u001b[39m=\u001b[39m _reconstruct(x, memo, \u001b[39m*\u001b[39;49mrv)\n\u001b[0;32m    174\u001b[0m \u001b[39m# If is its own copy, don't memoize.\u001b[39;00m\n\u001b[0;32m    175\u001b[0m \u001b[39mif\u001b[39;00m y \u001b[39mis\u001b[39;00m \u001b[39mnot\u001b[39;00m x:\n",
      "File \u001b[1;32m~\\AppData\\Local\\Programs\\Python\\Python39\\lib\\copy.py:270\u001b[0m, in \u001b[0;36m_reconstruct\u001b[1;34m(x, memo, func, args, state, listiter, dictiter, deepcopy)\u001b[0m\n\u001b[0;32m    268\u001b[0m \u001b[39mif\u001b[39;00m state \u001b[39mis\u001b[39;00m \u001b[39mnot\u001b[39;00m \u001b[39mNone\u001b[39;00m:\n\u001b[0;32m    269\u001b[0m     \u001b[39mif\u001b[39;00m deep:\n\u001b[1;32m--> 270\u001b[0m         state \u001b[39m=\u001b[39m deepcopy(state, memo)\n\u001b[0;32m    271\u001b[0m     \u001b[39mif\u001b[39;00m \u001b[39mhasattr\u001b[39m(y, \u001b[39m'\u001b[39m\u001b[39m__setstate__\u001b[39m\u001b[39m'\u001b[39m):\n\u001b[0;32m    272\u001b[0m         y\u001b[39m.\u001b[39m__setstate__(state)\n",
      "File \u001b[1;32m~\\AppData\\Local\\Programs\\Python\\Python39\\lib\\copy.py:146\u001b[0m, in \u001b[0;36mdeepcopy\u001b[1;34m(x, memo, _nil)\u001b[0m\n\u001b[0;32m    144\u001b[0m copier \u001b[39m=\u001b[39m _deepcopy_dispatch\u001b[39m.\u001b[39mget(\u001b[39mcls\u001b[39m)\n\u001b[0;32m    145\u001b[0m \u001b[39mif\u001b[39;00m copier \u001b[39mis\u001b[39;00m \u001b[39mnot\u001b[39;00m \u001b[39mNone\u001b[39;00m:\n\u001b[1;32m--> 146\u001b[0m     y \u001b[39m=\u001b[39m copier(x, memo)\n\u001b[0;32m    147\u001b[0m \u001b[39melse\u001b[39;00m:\n\u001b[0;32m    148\u001b[0m     \u001b[39mif\u001b[39;00m \u001b[39missubclass\u001b[39m(\u001b[39mcls\u001b[39m, \u001b[39mtype\u001b[39m):\n",
      "File \u001b[1;32m~\\AppData\\Local\\Programs\\Python\\Python39\\lib\\copy.py:230\u001b[0m, in \u001b[0;36m_deepcopy_dict\u001b[1;34m(x, memo, deepcopy)\u001b[0m\n\u001b[0;32m    228\u001b[0m memo[\u001b[39mid\u001b[39m(x)] \u001b[39m=\u001b[39m y\n\u001b[0;32m    229\u001b[0m \u001b[39mfor\u001b[39;00m key, value \u001b[39min\u001b[39;00m x\u001b[39m.\u001b[39mitems():\n\u001b[1;32m--> 230\u001b[0m     y[deepcopy(key, memo)] \u001b[39m=\u001b[39m deepcopy(value, memo)\n\u001b[0;32m    231\u001b[0m \u001b[39mreturn\u001b[39;00m y\n",
      "File \u001b[1;32m~\\AppData\\Local\\Programs\\Python\\Python39\\lib\\copy.py:146\u001b[0m, in \u001b[0;36mdeepcopy\u001b[1;34m(x, memo, _nil)\u001b[0m\n\u001b[0;32m    144\u001b[0m copier \u001b[39m=\u001b[39m _deepcopy_dispatch\u001b[39m.\u001b[39mget(\u001b[39mcls\u001b[39m)\n\u001b[0;32m    145\u001b[0m \u001b[39mif\u001b[39;00m copier \u001b[39mis\u001b[39;00m \u001b[39mnot\u001b[39;00m \u001b[39mNone\u001b[39;00m:\n\u001b[1;32m--> 146\u001b[0m     y \u001b[39m=\u001b[39m copier(x, memo)\n\u001b[0;32m    147\u001b[0m \u001b[39melse\u001b[39;00m:\n\u001b[0;32m    148\u001b[0m     \u001b[39mif\u001b[39;00m \u001b[39missubclass\u001b[39m(\u001b[39mcls\u001b[39m, \u001b[39mtype\u001b[39m):\n",
      "File \u001b[1;32m~\\AppData\\Local\\Programs\\Python\\Python39\\lib\\copy.py:210\u001b[0m, in \u001b[0;36m_deepcopy_tuple\u001b[1;34m(x, memo, deepcopy)\u001b[0m\n\u001b[0;32m    209\u001b[0m \u001b[39mdef\u001b[39;00m \u001b[39m_deepcopy_tuple\u001b[39m(x, memo, deepcopy\u001b[39m=\u001b[39mdeepcopy):\n\u001b[1;32m--> 210\u001b[0m     y \u001b[39m=\u001b[39m [deepcopy(a, memo) \u001b[39mfor\u001b[39;00m a \u001b[39min\u001b[39;00m x]\n\u001b[0;32m    211\u001b[0m     \u001b[39m# We're not going to put the tuple in the memo, but it's still important we\u001b[39;00m\n\u001b[0;32m    212\u001b[0m     \u001b[39m# check for it, in case the tuple contains recursive mutable structures.\u001b[39;00m\n\u001b[0;32m    213\u001b[0m     \u001b[39mtry\u001b[39;00m:\n",
      "File \u001b[1;32m~\\AppData\\Local\\Programs\\Python\\Python39\\lib\\copy.py:210\u001b[0m, in \u001b[0;36m<listcomp>\u001b[1;34m(.0)\u001b[0m\n\u001b[0;32m    209\u001b[0m \u001b[39mdef\u001b[39;00m \u001b[39m_deepcopy_tuple\u001b[39m(x, memo, deepcopy\u001b[39m=\u001b[39mdeepcopy):\n\u001b[1;32m--> 210\u001b[0m     y \u001b[39m=\u001b[39m [deepcopy(a, memo) \u001b[39mfor\u001b[39;00m a \u001b[39min\u001b[39;00m x]\n\u001b[0;32m    211\u001b[0m     \u001b[39m# We're not going to put the tuple in the memo, but it's still important we\u001b[39;00m\n\u001b[0;32m    212\u001b[0m     \u001b[39m# check for it, in case the tuple contains recursive mutable structures.\u001b[39;00m\n\u001b[0;32m    213\u001b[0m     \u001b[39mtry\u001b[39;00m:\n",
      "\u001b[1;31mKeyboardInterrupt\u001b[0m: "
     ]
    }
   ],
   "source": [
    "sol_grasp_pr = grasp_pr(\n",
    "    params, maxiter=10000, ifreq=500, mixed_construction=True,\n",
    "    alpha=(0.3, 0.9), maxpool=10, target=None, seed=12, verbose=True,\n",
    ")"
   ]
  },
  {
   "cell_type": "code",
   "execution_count": null,
   "metadata": {},
   "outputs": [
    {
     "data": {
      "text/plain": [
       "44"
      ]
     },
     "execution_count": 6,
     "metadata": {},
     "output_type": "execute_result"
    }
   ],
   "source": [
    "sol_grasp_pr[0].C"
   ]
  },
  {
   "cell_type": "code",
   "execution_count": null,
   "metadata": {},
   "outputs": [
    {
     "data": {
      "image/png": "[encoded data removed]",
      "text/plain": [
       "<Figure size 700x300 with 1 Axes>"
      ]
     },
     "metadata": {},
     "output_type": "display_data"
    }
   ],
   "source": [
    "sol_grasp_pr[0].plot()"
   ]
  },
  {
   "cell_type": "code",
   "execution_count": null,
   "metadata": {},
   "outputs": [],
   "source": []
  }
 ],
 "metadata": {
  "kernelspec": {
   "display_name": "venv",
   "language": "python",
   "name": "python3"
  },
  "language_info": {
   "codemirror_mode": {
    "name": "ipython",
    "version": 3
   },
   "file_extension": ".py",
   "mimetype": "text/x-python",
   "name": "python",
   "nbconvert_exporter": "python",
   "pygments_lexer": "ipython3",
   "version": "3.9.7"
  },
  "orig_nbformat": 4,
  "vscode": {
   "interpreter": {
    "hash": "c80e59d898e7c66d975776755d4e3dc6a2d556add5ce2725f479f7b2dc2ae0e0"
   }
  }
 },
 "nbformat": 4,
 "nbformat_minor": 2
}
